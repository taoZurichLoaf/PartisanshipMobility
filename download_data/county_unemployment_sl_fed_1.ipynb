{
  "cells": [
    {
      "cell_type": "markdown",
      "metadata": {
        "id": "QbTwMry8-Ixe"
      },
      "source": [
        "### import full-fred to query FRED data"
      ]
    },
    {
      "cell_type": "code",
      "execution_count": 35,
      "metadata": {
        "id": "nZZ4lNlG7N9S"
      },
      "outputs": [],
      "source": [
        "try: \n",
        "  from full_fred.fred import Fred\n",
        "except:\n",
        "  !pip install full-fred\n",
        "  from full_fred.fred import Fred\n",
        "\n",
        "from time import sleep\n",
        "from tqdm import tqdm\n",
        "import pandas as pd"
      ]
    },
    {
      "cell_type": "markdown",
      "metadata": {
        "id": "C2qf5mQ--MZy"
      },
      "source": [
        "### set API key"
      ]
    },
    {
      "cell_type": "code",
      "execution_count": 36,
      "metadata": {
        "id": "CGV-1rte93lF"
      },
      "outputs": [],
      "source": [
        "fred = Fred('api_key')"
      ]
    },
    {
      "cell_type": "markdown",
      "metadata": {
        "id": "gihJAa1f_6iK"
      },
      "source": [
        "### find the right category id of 'unemployment rate' and 'series ids' of all counties"
      ]
    },
    {
      "cell_type": "code",
      "execution_count": 37,
      "metadata": {},
      "outputs": [],
      "source": [
        "# utility functions to go around FED's daily request limit\n",
        "def nap(n):\n",
        "    for _ in tqdm(range(n), desc = 'zzz.. napping'):\n",
        "        sleep(1)\n",
        "\n",
        "def keep_trying(func, x, y, no_subscription = False):\n",
        "    error = True\n",
        "    n_trial = 0\n",
        "    if not no_subscription:\n",
        "        while(error):\n",
        "            try:\n",
        "                return func(x)[y]\n",
        "            except:\n",
        "                nap(1 + n_trial * 1)\n",
        "                n_trial += 1\n",
        "    else:\n",
        "        while(error):\n",
        "            try:\n",
        "                response = func(x)\n",
        "                if type(response) == pd.DataFrame:\n",
        "                    return response\n",
        "                else:\n",
        "                    raise Exception\n",
        "            except:\n",
        "                nap(1 + n_trial * 1)\n",
        "                n_trial += 1\n"
      ]
    },
    {
      "cell_type": "code",
      "execution_count": 38,
      "metadata": {},
      "outputs": [],
      "source": [
        "# define utility functions to explore the file hierachy of FRED DB\n",
        "def search(id : str, up : bool, cat : bool):\n",
        "    '''find the parent / children of a category / series'''\n",
        "    if cat:\n",
        "        if up:\n",
        "            return fred.get_a_category(id)\n",
        "        else:\n",
        "            return fred.get_child_categories(id) \n",
        "    else:  # series\n",
        "        if up:\n",
        "            return fred.get_categories_of_series(id)\n",
        "        else:\n",
        "            return fred.get_a_series(id)"
      ]
    },
    {
      "cell_type": "code",
      "execution_count": 39,
      "metadata": {
        "colab": {
          "base_uri": "https://localhost:8080/",
          "height": 1000
        },
        "id": "i-tHIqIi-q7G",
        "outputId": "f5138f5c-ffcc-4b90-dd87-7f65bfb0307c"
      },
      "outputs": [
        {
          "name": "stdout",
          "output_type": "stream",
          "text": [
            "\n",
            "\n",
            "Alabama\n",
            "Unemployment Rate in Russell County, AL , 57 --------------------\r"
          ]
        },
        {
          "name": "stderr",
          "output_type": "stream",
          "text": [
            "zzz.. napping: 100%|██████████| 1/1 [00:01<00:00,  1.00s/it]\n",
            "zzz.. napping: 100%|██████████| 2/2 [00:02<00:00,  1.01s/it]\n"
          ]
        },
        {
          "name": "stdout",
          "output_type": "stream",
          "text": [
            "Unemployment Rate in Winston County, AL , 67 --------------------\n",
            "\n",
            "Alaska\n",
            "\n",
            "\n",
            "Arizona\n",
            "Unemployment Rate in Yuma County, AZ , 82 -----------------------\n",
            "\n",
            "Arkansas\n",
            "Unemployment Rate in Hot Spring County, AR , 112 -----------------\r"
          ]
        },
        {
          "name": "stderr",
          "output_type": "stream",
          "text": [
            "zzz.. napping: 100%|██████████| 1/1 [00:01<00:00,  1.00s/it]\n",
            "zzz.. napping: 100%|██████████| 2/2 [00:02<00:00,  1.00s/it]\n",
            "zzz.. napping: 100%|██████████| 3/3 [00:03<00:00,  1.00s/it]\n",
            "zzz.. napping: 100%|██████████| 4/4 [00:04<00:00,  1.00s/it]\n",
            "zzz.. napping: 100%|██████████| 5/5 [00:05<00:00,  1.01s/it]\n",
            "zzz.. napping: 100%|██████████| 6/6 [00:06<00:00,  1.01s/it]\n",
            "zzz.. napping: 100%|██████████| 7/7 [00:07<00:00,  1.00s/it]\n",
            "zzz.. napping: 100%|██████████| 8/8 [00:08<00:00,  1.00s/it]\n"
          ]
        },
        {
          "name": "stdout",
          "output_type": "stream",
          "text": [
            "Unemployment Rate in Yell County, AR , 157 -------------------------\n",
            "\n",
            "California\n",
            "Unemployment Rate in Imperial County, CA , 170 ---------------------\r"
          ]
        },
        {
          "name": "stderr",
          "output_type": "stream",
          "text": [
            "zzz.. napping: 100%|██████████| 1/1 [00:01<00:00,  1.00s/it]\n",
            "zzz.. napping: 100%|██████████| 2/2 [00:02<00:00,  1.00s/it]\n",
            "zzz.. napping: 100%|██████████| 3/3 [00:03<00:00,  1.00s/it]\n",
            "zzz.. napping: 100%|██████████| 4/4 [00:04<00:00,  1.00s/it]\n",
            "zzz.. napping: 100%|██████████| 5/5 [00:05<00:00,  1.00s/it]\n",
            "zzz.. napping: 100%|██████████| 6/6 [00:06<00:00,  1.00s/it]\n",
            "zzz.. napping: 100%|██████████| 7/7 [00:07<00:00,  1.01s/it]\n",
            "zzz.. napping: 100%|██████████| 8/8 [00:08<00:00,  1.01s/it]\n"
          ]
        },
        {
          "name": "stdout",
          "output_type": "stream",
          "text": [
            "Unemployment Rate in Yuba County, CA , 215 -------------------------------\n",
            "\n",
            "Colorado\n",
            "Unemployment Rate in Costilla County, CO , 228 ------------------------\r"
          ]
        },
        {
          "name": "stderr",
          "output_type": "stream",
          "text": [
            "zzz.. napping: 100%|██████████| 1/1 [00:01<00:00,  1.01s/it]\n",
            "zzz.. napping: 100%|██████████| 2/2 [00:02<00:00,  1.00s/it]\n",
            "zzz.. napping: 100%|██████████| 3/3 [00:03<00:00,  1.00s/it]\n",
            "zzz.. napping: 100%|██████████| 4/4 [00:04<00:00,  1.01s/it]\n",
            "zzz.. napping: 100%|██████████| 5/5 [00:05<00:00,  1.02s/it]\n",
            "zzz.. napping: 100%|██████████| 6/6 [00:06<00:00,  1.00s/it]\n",
            "zzz.. napping: 100%|██████████| 7/7 [00:07<00:00,  1.00s/it]\n",
            "zzz.. napping: 100%|██████████| 8/8 [00:08<00:00,  1.00s/it]\n"
          ]
        },
        {
          "name": "stdout",
          "output_type": "stream",
          "text": [
            "Unemployment Rate in Yuma County, CO , 279 ------------------------\n",
            "\n",
            "Connecticut\n",
            "Unemployment Rate in Tolland County, CT , 286 --------------------\r"
          ]
        },
        {
          "name": "stderr",
          "output_type": "stream",
          "text": [
            "zzz.. napping: 100%|██████████| 1/1 [00:01<00:00,  1.00s/it]\n",
            "zzz.. napping: 100%|██████████| 2/2 [00:02<00:00,  1.01s/it]\n",
            "zzz.. napping: 100%|██████████| 3/3 [00:03<00:00,  1.00s/it]\n",
            "zzz.. napping: 100%|██████████| 4/4 [00:04<00:00,  1.00s/it]\n",
            "zzz.. napping: 100%|██████████| 5/5 [00:05<00:00,  1.00s/it]\n",
            "zzz.. napping: 100%|██████████| 6/6 [00:06<00:00,  1.00s/it]\n",
            "zzz.. napping: 100%|██████████| 7/7 [00:07<00:00,  1.01s/it]\n",
            "zzz.. napping: 100%|██████████| 8/8 [00:08<00:00,  1.00s/it]\n"
          ]
        },
        {
          "name": "stdout",
          "output_type": "stream",
          "text": [
            "Unemployment Rate in Windham County, CT , 287 -----------------\n",
            "\n",
            "Delaware\n",
            "Unemployment Rate in Sussex County, DE , 290 ---------------------\n",
            "\n",
            "District of Columbia\n",
            "Unemployment Rate in the District of Columbia , 291 -----------------\n",
            "\n",
            "Florida\n",
            "Unemployment Rate in Osceola County, FL , 340 ----------------------\r"
          ]
        },
        {
          "name": "stderr",
          "output_type": "stream",
          "text": [
            "zzz.. napping: 100%|██████████| 1/1 [00:01<00:00,  1.00s/it]\n",
            "zzz.. napping: 100%|██████████| 2/2 [00:02<00:00,  1.00s/it]\n",
            "zzz.. napping: 100%|██████████| 3/3 [00:03<00:00,  1.00s/it]\n",
            "zzz.. napping: 100%|██████████| 4/4 [00:04<00:00,  1.01s/it]\n",
            "zzz.. napping: 100%|██████████| 5/5 [00:05<00:00,  1.00s/it]\n",
            "zzz.. napping: 100%|██████████| 6/6 [00:06<00:00,  1.00s/it]\n",
            "zzz.. napping: 100%|██████████| 7/7 [00:07<00:00,  1.00s/it]\n",
            "zzz.. napping: 100%|██████████| 8/8 [00:08<00:00,  1.00s/it]\n"
          ]
        },
        {
          "name": "stdout",
          "output_type": "stream",
          "text": [
            "Unemployment Rate in Washington County, FL , 358 -----------------\n",
            "\n",
            "Georgia\n",
            "Unemployment Rate in Crisp County, GA , 398 -------------------------\r"
          ]
        },
        {
          "name": "stderr",
          "output_type": "stream",
          "text": [
            "zzz.. napping: 100%|██████████| 1/1 [00:01<00:00,  1.01s/it]\n",
            "zzz.. napping: 100%|██████████| 2/2 [00:02<00:00,  1.01s/it]\n",
            "zzz.. napping: 100%|██████████| 3/3 [00:03<00:00,  1.00s/it]\n",
            "zzz.. napping: 100%|██████████| 4/4 [00:04<00:00,  1.00s/it]\n",
            "zzz.. napping: 100%|██████████| 5/5 [00:05<00:00,  1.00s/it]\n",
            "zzz.. napping: 100%|██████████| 6/6 [00:06<00:00,  1.00s/it]\n",
            "zzz.. napping: 100%|██████████| 7/7 [00:07<00:00,  1.00s/it]\n",
            "zzz.. napping: 100%|██████████| 8/8 [00:08<00:00,  1.00s/it]\n"
          ]
        },
        {
          "name": "stdout",
          "output_type": "stream",
          "text": [
            "Unemployment Rate in Miller County, GA , 458 ---------------------\r"
          ]
        },
        {
          "name": "stderr",
          "output_type": "stream",
          "text": [
            "zzz.. napping: 100%|██████████| 1/1 [00:01<00:00,  1.00s/it]\n",
            "zzz.. napping: 100%|██████████| 2/2 [00:02<00:00,  1.01s/it]\n",
            "zzz.. napping: 100%|██████████| 3/3 [00:03<00:00,  1.01s/it]\n",
            "zzz.. napping: 100%|██████████| 4/4 [00:04<00:00,  1.01s/it]\n",
            "zzz.. napping: 100%|██████████| 5/5 [00:05<00:00,  1.01s/it]\n",
            "zzz.. napping: 100%|██████████| 6/6 [00:06<00:00,  1.01s/it]\n",
            "zzz.. napping: 100%|██████████| 7/7 [00:07<00:00,  1.00s/it]\n",
            "zzz.. napping: 100%|██████████| 8/8 [00:08<00:00,  1.00s/it]\n"
          ]
        },
        {
          "name": "stdout",
          "output_type": "stream",
          "text": [
            "Unemployment Rate in Worth County, GA , 517 ----------------------\n",
            "\n",
            "Hawaii\n"
          ]
        },
        {
          "name": "stderr",
          "output_type": "stream",
          "text": [
            "zzz.. napping: 100%|██████████| 1/1 [00:01<00:00,  1.00s/it]\n",
            "zzz.. napping: 100%|██████████| 2/2 [00:02<00:00,  1.00s/it]\n",
            "zzz.. napping: 100%|██████████| 3/3 [00:03<00:00,  1.01s/it]\n",
            "zzz.. napping: 100%|██████████| 4/4 [00:04<00:00,  1.00s/it]\n",
            "zzz.. napping: 100%|██████████| 5/5 [00:05<00:00,  1.00s/it]\n",
            "zzz.. napping: 100%|██████████| 6/6 [00:06<00:00,  1.00s/it]\n",
            "zzz.. napping: 100%|██████████| 7/7 [00:07<00:00,  1.00s/it]\n",
            "zzz.. napping: 100%|██████████| 8/8 [00:08<00:00,  1.00s/it]\n"
          ]
        },
        {
          "name": "stdout",
          "output_type": "stream",
          "text": [
            "Unemployment Rate in Maui County, HI , 521 --------------------------\n",
            "\n",
            "Idaho\n",
            "Unemployment Rate in Washington County, ID , 565 -----------------\n",
            "\n",
            "Illinois\n",
            "Unemployment Rate in Brown County, IL , 570 ---------------------\r"
          ]
        },
        {
          "name": "stderr",
          "output_type": "stream",
          "text": [
            "zzz.. napping: 100%|██████████| 1/1 [00:01<00:00,  1.00s/it]\n",
            "zzz.. napping: 100%|██████████| 2/2 [00:02<00:00,  1.01s/it]\n",
            "zzz.. napping: 100%|██████████| 3/3 [00:03<00:00,  1.02s/it]\n",
            "zzz.. napping: 100%|██████████| 4/4 [00:04<00:00,  1.00s/it]\n",
            "zzz.. napping: 100%|██████████| 5/5 [00:05<00:00,  1.00s/it]\n",
            "zzz.. napping: 100%|██████████| 6/6 [00:06<00:00,  1.00s/it]\n",
            "zzz.. napping: 100%|██████████| 7/7 [00:07<00:00,  1.00s/it]\n",
            "zzz.. napping: 100%|██████████| 8/8 [00:08<00:00,  1.00s/it]\n",
            "zzz.. napping: 100%|██████████| 9/9 [00:09<00:00,  1.00s/it]\n"
          ]
        },
        {
          "name": "stdout",
          "output_type": "stream",
          "text": [
            "Unemployment Rate in Menard County, IL , 630 ---------------------\r"
          ]
        },
        {
          "name": "stderr",
          "output_type": "stream",
          "text": [
            "zzz.. napping: 100%|██████████| 1/1 [00:01<00:00,  1.01s/it]\n",
            "zzz.. napping: 100%|██████████| 2/2 [00:02<00:00,  1.00s/it]\n",
            "zzz.. napping: 100%|██████████| 3/3 [00:03<00:00,  1.00s/it]\n",
            "zzz.. napping: 100%|██████████| 4/4 [00:04<00:00,  1.00s/it]\n",
            "zzz.. napping: 100%|██████████| 5/5 [00:05<00:00,  1.00s/it]\n",
            "zzz.. napping: 100%|██████████| 6/6 [00:06<00:00,  1.00s/it]\n",
            "zzz.. napping: 100%|██████████| 7/7 [00:07<00:00,  1.00s/it]\n",
            "zzz.. napping: 100%|██████████| 8/8 [00:08<00:00,  1.00s/it]\n"
          ]
        },
        {
          "name": "stdout",
          "output_type": "stream",
          "text": [
            "Unemployment Rate in Woodford County, IL , 667 --------------------\n",
            "\n",
            "Indiana\n",
            "Unemployment Rate in Fayette County, IN , 688 ---------------------\r"
          ]
        },
        {
          "name": "stderr",
          "output_type": "stream",
          "text": [
            "zzz.. napping: 100%|██████████| 1/1 [00:01<00:00,  1.01s/it]\n",
            "zzz.. napping: 100%|██████████| 2/2 [00:02<00:00,  1.00s/it]\n",
            "zzz.. napping: 100%|██████████| 3/3 [00:03<00:00,  1.00s/it]\n",
            "zzz.. napping: 100%|██████████| 4/4 [00:04<00:00,  1.01s/it]\n",
            "zzz.. napping: 100%|██████████| 5/5 [00:05<00:00,  1.00s/it]\n",
            "zzz.. napping: 100%|██████████| 6/6 [00:06<00:00,  1.00s/it]\n",
            "zzz.. napping: 100%|██████████| 7/7 [00:07<00:00,  1.00s/it]\n",
            "zzz.. napping: 100%|██████████| 8/8 [00:08<00:00,  1.00s/it]\n"
          ]
        },
        {
          "name": "stdout",
          "output_type": "stream",
          "text": [
            "Unemployment Rate in Union County, IN , 748 -----------------------\r"
          ]
        },
        {
          "name": "stderr",
          "output_type": "stream",
          "text": [
            "zzz.. napping: 100%|██████████| 1/1 [00:01<00:00,  1.00s/it]\n",
            "zzz.. napping: 100%|██████████| 2/2 [00:02<00:00,  1.01s/it]\n",
            "zzz.. napping: 100%|██████████| 3/3 [00:03<00:00,  1.02s/it]\n",
            "zzz.. napping: 100%|██████████| 4/4 [00:04<00:00,  1.00s/it]\n",
            "zzz.. napping: 100%|██████████| 5/5 [00:05<00:00,  1.01s/it]\n",
            "zzz.. napping: 100%|██████████| 6/6 [00:06<00:00,  1.00s/it]\n",
            "zzz.. napping: 100%|██████████| 7/7 [00:07<00:00,  1.00s/it]\n",
            "zzz.. napping: 100%|██████████| 8/8 [00:08<00:00,  1.01s/it]\n"
          ]
        },
        {
          "name": "stdout",
          "output_type": "stream",
          "text": [
            "Unemployment Rate in Whitley County, IN , 759 ---------------------\n",
            "\n",
            "Iowa\n",
            "Unemployment Rate in Ida County, IA , 806 -------------------------\r"
          ]
        },
        {
          "name": "stderr",
          "output_type": "stream",
          "text": [
            "zzz.. napping: 100%|██████████| 1/1 [00:01<00:00,  1.01s/it]\n",
            "zzz.. napping: 100%|██████████| 2/2 [00:02<00:00,  1.03s/it]\n",
            "zzz.. napping: 100%|██████████| 3/3 [00:03<00:00,  1.00s/it]\n",
            "zzz.. napping: 100%|██████████| 4/4 [00:04<00:00,  1.00s/it]\n",
            "zzz.. napping: 100%|██████████| 5/5 [00:05<00:00,  1.00s/it]\n",
            "zzz.. napping: 100%|██████████| 6/6 [00:06<00:00,  1.00s/it]\n",
            "zzz.. napping: 100%|██████████| 7/7 [00:07<00:00,  1.00s/it]\n",
            "zzz.. napping: 100%|██████████| 8/8 [00:08<00:00,  1.00s/it]\n"
          ]
        },
        {
          "name": "stdout",
          "output_type": "stream",
          "text": [
            "Unemployment Rate in Wright County, IA , 858 ------------------------\n",
            "\n",
            "Kansas\n",
            "Unemployment Rate in Bourbon County, KS , 864 ------------------\r"
          ]
        },
        {
          "name": "stderr",
          "output_type": "stream",
          "text": [
            "zzz.. napping: 100%|██████████| 1/1 [00:01<00:00,  1.00s/it]\n",
            "zzz.. napping: 100%|██████████| 2/2 [00:02<00:00,  1.00s/it]\n",
            "zzz.. napping: 100%|██████████| 3/3 [00:03<00:00,  1.01s/it]\n",
            "zzz.. napping: 100%|██████████| 4/4 [00:04<00:00,  1.00s/it]\n",
            "zzz.. napping: 100%|██████████| 5/5 [00:05<00:00,  1.00s/it]\n",
            "zzz.. napping: 100%|██████████| 6/6 [00:06<00:00,  1.00s/it]\n",
            "zzz.. napping: 100%|██████████| 7/7 [00:07<00:00,  1.00s/it]\n",
            "zzz.. napping: 100%|██████████| 8/8 [00:08<00:00,  1.00s/it]\n",
            "zzz.. napping: 100%|██████████| 9/9 [00:09<00:00,  1.01s/it]\n"
          ]
        },
        {
          "name": "stdout",
          "output_type": "stream",
          "text": [
            "Unemployment Rate in Nemaha County, KS , 924 ----------------------\r"
          ]
        },
        {
          "name": "stderr",
          "output_type": "stream",
          "text": [
            "zzz.. napping: 100%|██████████| 1/1 [00:01<00:00,  1.00s/it]\n",
            "zzz.. napping: 100%|██████████| 2/2 [00:02<00:00,  1.00s/it]\n",
            "zzz.. napping: 100%|██████████| 3/3 [00:03<00:00,  1.00s/it]\n",
            "zzz.. napping: 100%|██████████| 4/4 [00:04<00:00,  1.00s/it]\n",
            "zzz.. napping: 100%|██████████| 5/5 [00:05<00:00,  1.00s/it]\n",
            "zzz.. napping: 100%|██████████| 6/6 [00:06<00:00,  1.00s/it]\n",
            "zzz.. napping: 100%|██████████| 7/7 [00:07<00:00,  1.00s/it]\n",
            "zzz.. napping: 100%|██████████| 8/8 [00:08<00:00,  1.00s/it]\n"
          ]
        },
        {
          "name": "stdout",
          "output_type": "stream",
          "text": [
            "Unemployment Rate in Wyandotte County, KS , 963 --------------------\n",
            "\n",
            "Kentucky\n",
            "Unemployment Rate in Campbell County, KY , 982 ---------------------\r"
          ]
        },
        {
          "name": "stderr",
          "output_type": "stream",
          "text": [
            "zzz.. napping: 100%|██████████| 1/1 [00:01<00:00,  1.01s/it]\n",
            "zzz.. napping: 100%|██████████| 2/2 [00:02<00:00,  1.01s/it]\n",
            "zzz.. napping: 100%|██████████| 3/3 [00:03<00:00,  1.00s/it]\n",
            "zzz.. napping: 100%|██████████| 4/4 [00:04<00:00,  1.00s/it]\n",
            "zzz.. napping: 100%|██████████| 5/5 [00:05<00:00,  1.00s/it]\n",
            "zzz.. napping: 100%|██████████| 6/6 [00:06<00:00,  1.01s/it]\n",
            "zzz.. napping: 100%|██████████| 7/7 [00:07<00:00,  1.00s/it]\n",
            "zzz.. napping: 100%|██████████| 8/8 [00:08<00:00,  1.00s/it]\n"
          ]
        },
        {
          "name": "stdout",
          "output_type": "stream",
          "text": [
            "Unemployment Rate in McCracken County, KY , 1042 ------------------\r"
          ]
        },
        {
          "name": "stderr",
          "output_type": "stream",
          "text": [
            "zzz.. napping: 100%|██████████| 1/1 [00:01<00:00,  1.00s/it]\n",
            "zzz.. napping: 100%|██████████| 2/2 [00:02<00:00,  1.01s/it]\n",
            "zzz.. napping: 100%|██████████| 3/3 [00:03<00:00,  1.01s/it]\n",
            "zzz.. napping: 100%|██████████| 4/4 [00:04<00:00,  1.00s/it]\n",
            "zzz.. napping: 100%|██████████| 5/5 [00:05<00:00,  1.00s/it]\n",
            "zzz.. napping: 100%|██████████| 6/6 [00:06<00:00,  1.00s/it]\n",
            "zzz.. napping: 100%|██████████| 7/7 [00:07<00:00,  1.00s/it]\n",
            "zzz.. napping: 100%|██████████| 8/8 [00:08<00:00,  1.00s/it]\n"
          ]
        },
        {
          "name": "stdout",
          "output_type": "stream",
          "text": [
            "Unemployment Rate in Woodford County, KY , 1083 -------------------\n",
            "\n",
            "Louisiana\n",
            "\n",
            "\n",
            "Maine\n",
            "Unemployment Rate in York County, ME , 1099 -------------------------\n",
            "\n",
            "Maryland\n"
          ]
        },
        {
          "name": "stderr",
          "output_type": "stream",
          "text": [
            "zzz.. napping: 100%|██████████| 1/1 [00:01<00:00,  1.01s/it]\n",
            "zzz.. napping: 100%|██████████| 2/2 [00:02<00:00,  1.00s/it]\n",
            "zzz.. napping: 100%|██████████| 3/3 [00:03<00:00,  1.00s/it]\n",
            "zzz.. napping: 100%|██████████| 4/4 [00:04<00:00,  1.01s/it]\n",
            "zzz.. napping: 100%|██████████| 5/5 [00:05<00:00,  1.01s/it]\n",
            "zzz.. napping: 100%|██████████| 6/6 [00:06<00:00,  1.00s/it]\n",
            "zzz.. napping: 100%|██████████| 7/7 [00:07<00:00,  1.00s/it]\n",
            "zzz.. napping: 100%|██████████| 8/8 [00:08<00:00,  1.00s/it]\n",
            "zzz.. napping: 100%|██████████| 9/9 [00:09<00:00,  1.00s/it]\n"
          ]
        },
        {
          "name": "stdout",
          "output_type": "stream",
          "text": [
            "Unemployment Rate in Worcester County, MD , 1123 -----------------------\n",
            "\n",
            "Massachusetts\n",
            "Unemployment Rate in Worcester County, MA , 1137 ----------------------\n",
            "\n",
            "Michigan\n",
            "Unemployment Rate in Cheboygan County, MI , 1153 ------------------\r"
          ]
        },
        {
          "name": "stderr",
          "output_type": "stream",
          "text": [
            "zzz.. napping: 100%|██████████| 1/1 [00:01<00:00,  1.01s/it]\n",
            "zzz.. napping: 100%|██████████| 2/2 [00:02<00:00,  1.01s/it]\n",
            "zzz.. napping: 100%|██████████| 3/3 [00:03<00:00,  1.01s/it]\n",
            "zzz.. napping: 100%|██████████| 4/4 [00:04<00:00,  1.00s/it]\n",
            "zzz.. napping: 100%|██████████| 5/5 [00:05<00:00,  1.01s/it]\n",
            "zzz.. napping: 100%|██████████| 6/6 [00:06<00:00,  1.00s/it]\n",
            "zzz.. napping: 100%|██████████| 7/7 [00:07<00:00,  1.00s/it]\n"
          ]
        },
        {
          "name": "stdout",
          "output_type": "stream",
          "text": [
            "Unemployment Rate in Shiawassee County, MI , 1213 ---------------------\r"
          ]
        },
        {
          "name": "stderr",
          "output_type": "stream",
          "text": [
            "zzz.. napping: 100%|██████████| 1/1 [00:01<00:00,  1.01s/it]\n",
            "zzz.. napping: 100%|██████████| 2/2 [00:02<00:00,  1.00s/it]\n",
            "zzz.. napping: 100%|██████████| 3/3 [00:03<00:00,  1.01s/it]\n",
            "zzz.. napping: 100%|██████████| 4/4 [00:04<00:00,  1.01s/it]\n",
            "zzz.. napping: 100%|██████████| 5/5 [00:05<00:00,  1.00s/it]\n",
            "zzz.. napping: 100%|██████████| 6/6 [00:06<00:00,  1.00s/it]\n",
            "zzz.. napping: 100%|██████████| 7/7 [00:07<00:00,  1.00s/it]\n",
            "zzz.. napping: 100%|██████████| 8/8 [00:08<00:00,  1.01s/it]\n"
          ]
        },
        {
          "name": "stdout",
          "output_type": "stream",
          "text": [
            "Unemployment Rate in Wexford County, MI , 1220 --------------------\n",
            "\n",
            "Minnesota\n",
            "Unemployment Rate in Murray County, MN , 1271 ----------------------------\r"
          ]
        },
        {
          "name": "stderr",
          "output_type": "stream",
          "text": [
            "zzz.. napping: 100%|██████████| 1/1 [00:01<00:00,  1.00s/it]\n",
            "zzz.. napping: 100%|██████████| 2/2 [00:02<00:00,  1.01s/it]\n",
            "zzz.. napping: 100%|██████████| 3/3 [00:03<00:00,  1.01s/it]\n",
            "zzz.. napping: 100%|██████████| 4/4 [00:04<00:00,  1.00s/it]\n",
            "zzz.. napping: 100%|██████████| 5/5 [00:05<00:00,  1.01s/it]\n",
            "zzz.. napping: 100%|██████████| 6/6 [00:06<00:00,  1.01s/it]\n",
            "zzz.. napping: 100%|██████████| 7/7 [00:07<00:00,  1.01s/it]\n",
            "zzz.. napping: 100%|██████████| 8/8 [00:08<00:00,  1.01s/it]\n"
          ]
        },
        {
          "name": "stdout",
          "output_type": "stream",
          "text": [
            "Unemployment Rate in Yellow Medicine County, MN , 1307 -----------------\n",
            "\n",
            "Mississippi\n",
            "Unemployment Rate in Grenada County, MS , 1329 -------------------\r"
          ]
        },
        {
          "name": "stderr",
          "output_type": "stream",
          "text": [
            "zzz.. napping: 100%|██████████| 1/1 [00:01<00:00,  1.01s/it]\n",
            "zzz.. napping: 100%|██████████| 2/2 [00:02<00:00,  1.00s/it]\n",
            "zzz.. napping: 100%|██████████| 3/3 [00:03<00:00,  1.01s/it]\n",
            "zzz.. napping: 100%|██████████| 4/4 [00:04<00:00,  1.01s/it]\n",
            "zzz.. napping: 100%|██████████| 5/5 [00:05<00:00,  1.01s/it]\n",
            "zzz.. napping: 100%|██████████| 6/6 [00:06<00:00,  1.01s/it]\n",
            "zzz.. napping: 100%|██████████| 7/7 [00:07<00:00,  1.00s/it]\n",
            "zzz.. napping: 100%|██████████| 8/8 [00:08<00:00,  1.01s/it]\n"
          ]
        },
        {
          "name": "stdout",
          "output_type": "stream",
          "text": [
            "Unemployment Rate in Yazoo County, MS , 1389 ---------------------------\n",
            "\n",
            "Missouri\n"
          ]
        },
        {
          "name": "stderr",
          "output_type": "stream",
          "text": [
            "zzz.. napping: 100%|██████████| 1/1 [00:01<00:00,  1.01s/it]\n",
            "zzz.. napping: 100%|██████████| 2/2 [00:02<00:00,  1.00s/it]\n",
            "zzz.. napping: 100%|██████████| 3/3 [00:03<00:00,  1.01s/it]\n",
            "zzz.. napping: 100%|██████████| 4/4 [00:04<00:00,  1.01s/it]\n",
            "zzz.. napping: 100%|██████████| 5/5 [00:05<00:00,  1.01s/it]\n",
            "zzz.. napping: 100%|██████████| 6/6 [00:06<00:00,  1.01s/it]\n",
            "zzz.. napping: 100%|██████████| 7/7 [00:07<00:00,  1.01s/it]\n",
            "zzz.. napping: 100%|██████████| 8/8 [00:08<00:00,  1.00s/it]\n"
          ]
        },
        {
          "name": "stdout",
          "output_type": "stream",
          "text": [
            "Unemployment Rate in Linn County, MO , 1447 ---------------------------\r"
          ]
        },
        {
          "name": "stderr",
          "output_type": "stream",
          "text": [
            "zzz.. napping: 100%|██████████| 1/1 [00:01<00:00,  1.01s/it]\n",
            "zzz.. napping: 100%|██████████| 2/2 [00:02<00:00,  1.01s/it]\n",
            "zzz.. napping: 100%|██████████| 3/3 [00:03<00:00,  1.01s/it]\n",
            "zzz.. napping: 100%|██████████| 4/4 [00:04<00:00,  1.00s/it]\n",
            "zzz.. napping: 100%|██████████| 5/5 [00:05<00:00,  1.00s/it]\n",
            "zzz.. napping: 100%|██████████| 6/6 [00:06<00:00,  1.00s/it]\n",
            "zzz.. napping: 100%|██████████| 7/7 [00:07<00:00,  1.00s/it]\n",
            "zzz.. napping: 100%|██████████| 8/8 [00:08<00:00,  1.01s/it]\n"
          ]
        },
        {
          "name": "stdout",
          "output_type": "stream",
          "text": [
            "Unemployment Rate in Wright County, MO , 1504 -------------------------\n",
            "\n",
            "Montana\n",
            "Unemployment Rate in Beaverhead County, MT , 1505 -----------------\r"
          ]
        },
        {
          "name": "stderr",
          "output_type": "stream",
          "text": [
            "zzz.. napping: 100%|██████████| 1/1 [00:01<00:00,  1.01s/it]\n",
            "zzz.. napping: 100%|██████████| 2/2 [00:02<00:00,  1.01s/it]\n",
            "zzz.. napping: 100%|██████████| 3/3 [00:03<00:00,  1.01s/it]\n",
            "zzz.. napping: 100%|██████████| 4/4 [00:04<00:00,  1.01s/it]\n",
            "zzz.. napping: 100%|██████████| 5/5 [00:05<00:00,  1.00s/it]\n",
            "zzz.. napping: 100%|██████████| 6/6 [00:06<00:00,  1.01s/it]\n",
            "zzz.. napping: 100%|██████████| 7/7 [00:07<00:00,  1.00s/it]\n",
            "zzz.. napping: 100%|██████████| 8/8 [00:08<00:00,  1.01s/it]\n"
          ]
        },
        {
          "name": "stdout",
          "output_type": "stream",
          "text": [
            "Unemployment Rate in Yellowstone County, MT , 1560 ---------------------\n",
            "\n",
            "Nebraska\n",
            "Unemployment Rate in Arthur County, NE , 1563 -------------------\r"
          ]
        },
        {
          "name": "stderr",
          "output_type": "stream",
          "text": [
            "zzz.. napping: 100%|██████████| 1/1 [00:01<00:00,  1.00s/it]\n",
            "zzz.. napping: 100%|██████████| 2/2 [00:02<00:00,  1.01s/it]\n",
            "zzz.. napping: 100%|██████████| 3/3 [00:03<00:00,  1.00s/it]\n",
            "zzz.. napping: 100%|██████████| 4/4 [00:04<00:00,  1.01s/it]\n",
            "zzz.. napping: 100%|██████████| 5/5 [00:05<00:00,  1.00s/it]\n",
            "zzz.. napping: 100%|██████████| 6/6 [00:06<00:00,  1.00s/it]\n",
            "zzz.. napping: 100%|██████████| 7/7 [00:07<00:00,  1.01s/it]\n",
            "zzz.. napping: 100%|██████████| 8/8 [00:08<00:00,  1.01s/it]\n"
          ]
        },
        {
          "name": "stdout",
          "output_type": "stream",
          "text": [
            "Unemployment Rate in Nance County, NE , 1623 ---------------------\r"
          ]
        },
        {
          "name": "stderr",
          "output_type": "stream",
          "text": [
            "zzz.. napping: 100%|██████████| 1/1 [00:01<00:00,  1.01s/it]\n",
            "zzz.. napping: 100%|██████████| 2/2 [00:02<00:00,  1.00s/it]\n",
            "zzz.. napping: 100%|██████████| 3/3 [00:03<00:00,  1.01s/it]\n",
            "zzz.. napping: 100%|██████████| 4/4 [00:04<00:00,  1.00s/it]\n",
            "zzz.. napping: 100%|██████████| 5/5 [00:05<00:00,  1.01s/it]\n",
            "zzz.. napping: 100%|██████████| 6/6 [00:06<00:00,  1.01s/it]\n",
            "zzz.. napping: 100%|██████████| 7/7 [00:07<00:00,  1.01s/it]\n"
          ]
        },
        {
          "name": "stdout",
          "output_type": "stream",
          "text": [
            "Unemployment Rate in York County, NE , 1653 -------------------------\n",
            "\n",
            "Nevada\n",
            "Unemployment Rate in White Pine County, NV , 1670 -----------------\n",
            "\n",
            "New Hampshire\n",
            "Unemployment Rate in Strafford County, NH , 1679 --------------------\r"
          ]
        },
        {
          "name": "stderr",
          "output_type": "stream",
          "text": [
            "zzz.. napping: 100%|██████████| 1/1 [00:01<00:00,  1.01s/it]\n",
            "zzz.. napping: 100%|██████████| 2/2 [00:02<00:00,  1.01s/it]\n",
            "zzz.. napping: 100%|██████████| 3/3 [00:03<00:00,  1.00s/it]\n",
            "zzz.. napping: 100%|██████████| 4/4 [00:04<00:00,  1.01s/it]\n",
            "zzz.. napping: 100%|██████████| 5/5 [00:05<00:00,  1.01s/it]\n",
            "zzz.. napping: 100%|██████████| 6/6 [00:06<00:00,  1.01s/it]\n",
            "zzz.. napping: 100%|██████████| 7/7 [00:07<00:00,  1.01s/it]\n",
            "zzz.. napping: 100%|██████████| 8/8 [00:08<00:00,  1.01s/it]\n"
          ]
        },
        {
          "name": "stdout",
          "output_type": "stream",
          "text": [
            "Unemployment Rate in Sullivan County, NH , 1680 -----------------\n",
            "\n",
            "New Jersey\n",
            "Unemployment Rate in Warren County, NJ , 1701 ---------------------\n",
            "\n",
            "New Mexico\n",
            "Unemployment Rate in Valencia County, NM , 1734 -------------------\n",
            "\n",
            "New York\n"
          ]
        },
        {
          "name": "stderr",
          "output_type": "stream",
          "text": [
            "zzz.. napping: 100%|██████████| 1/1 [00:01<00:00,  1.00s/it]\n",
            "zzz.. napping: 100%|██████████| 2/2 [00:02<00:00,  1.01s/it]\n",
            "zzz.. napping: 100%|██████████| 3/3 [00:03<00:00,  1.00s/it]\n",
            "zzz.. napping: 100%|██████████| 4/4 [00:04<00:00,  1.01s/it]\n",
            "zzz.. napping: 100%|██████████| 5/5 [00:05<00:00,  1.01s/it]\n",
            "zzz.. napping: 100%|██████████| 6/6 [00:06<00:00,  1.01s/it]\n",
            "zzz.. napping: 100%|██████████| 7/7 [00:07<00:00,  1.00s/it]\n",
            "zzz.. napping: 100%|██████████| 8/8 [00:08<00:00,  1.00s/it]\n"
          ]
        },
        {
          "name": "stdout",
          "output_type": "stream",
          "text": [
            "Unemployment Rate in Wayne County, NY , 1793 ------------------------\r"
          ]
        },
        {
          "name": "stderr",
          "output_type": "stream",
          "text": [
            "zzz.. napping: 100%|██████████| 1/1 [00:01<00:00,  1.01s/it]\n",
            "zzz.. napping: 100%|██████████| 2/2 [00:02<00:00,  1.01s/it]\n",
            "zzz.. napping: 100%|██████████| 3/3 [00:03<00:00,  1.01s/it]\n",
            "zzz.. napping: 100%|██████████| 4/4 [00:04<00:00,  1.01s/it]\n",
            "zzz.. napping: 100%|██████████| 5/5 [00:05<00:00,  1.01s/it]\n",
            "zzz.. napping: 100%|██████████| 6/6 [00:06<00:00,  1.01s/it]\n",
            "zzz.. napping: 100%|██████████| 7/7 [00:07<00:00,  1.01s/it]\n",
            "zzz.. napping: 100%|██████████| 8/8 [00:08<00:00,  1.00s/it]\n"
          ]
        },
        {
          "name": "stdout",
          "output_type": "stream",
          "text": [
            "Unemployment Rate in Yates County, NY , 1796 -----------------------\n",
            "\n",
            "North Carolina\n",
            "Unemployment Rate in Lincoln County, NC , 1851 --------------------\r"
          ]
        },
        {
          "name": "stderr",
          "output_type": "stream",
          "text": [
            "zzz.. napping: 100%|██████████| 1/1 [00:01<00:00,  1.01s/it]\n",
            "zzz.. napping: 100%|██████████| 2/2 [00:02<00:00,  1.00s/it]\n",
            "zzz.. napping: 100%|██████████| 3/3 [00:03<00:00,  1.01s/it]\n",
            "zzz.. napping: 100%|██████████| 4/4 [00:04<00:00,  1.00s/it]\n",
            "zzz.. napping: 100%|██████████| 5/5 [00:05<00:00,  1.00s/it]\n",
            "zzz.. napping: 100%|██████████| 6/6 [00:06<00:00,  1.01s/it]\n",
            "zzz.. napping: 100%|██████████| 7/7 [00:07<00:00,  1.00s/it]\n",
            "zzz.. napping: 100%|██████████| 8/8 [00:08<00:00,  1.01s/it]\n"
          ]
        },
        {
          "name": "stdout",
          "output_type": "stream",
          "text": [
            "Unemployment Rate in Yancey County, NC , 1896 -----------------------\n",
            "\n",
            "North Dakota\n",
            "Unemployment Rate in Dunn County, ND , 1909 ----------------------\r"
          ]
        },
        {
          "name": "stderr",
          "output_type": "stream",
          "text": [
            "zzz.. napping: 100%|██████████| 1/1 [00:01<00:00,  1.00s/it]\n",
            "zzz.. napping: 100%|██████████| 2/2 [00:02<00:00,  1.00s/it]\n",
            "zzz.. napping: 100%|██████████| 3/3 [00:03<00:00,  1.00s/it]\n",
            "zzz.. napping: 100%|██████████| 4/4 [00:04<00:00,  1.01s/it]\n",
            "zzz.. napping: 100%|██████████| 5/5 [00:05<00:00,  1.00s/it]\n",
            "zzz.. napping: 100%|██████████| 6/6 [00:06<00:00,  1.00s/it]\n",
            "zzz.. napping: 100%|██████████| 7/7 [00:07<00:00,  1.01s/it]\n",
            "zzz.. napping: 100%|██████████| 8/8 [00:08<00:00,  1.01s/it]\n"
          ]
        },
        {
          "name": "stdout",
          "output_type": "stream",
          "text": [
            "Unemployment Rate in Williams County, ND , 1949 ----------------------\n",
            "\n",
            "Ohio\n",
            "Unemployment Rate in Cuyahoga County, OH , 1967 -------------------\r"
          ]
        },
        {
          "name": "stderr",
          "output_type": "stream",
          "text": [
            "zzz.. napping: 100%|██████████| 1/1 [00:01<00:00,  1.00s/it]\n",
            "zzz.. napping: 100%|██████████| 2/2 [00:02<00:00,  1.00s/it]\n",
            "zzz.. napping: 100%|██████████| 3/3 [00:03<00:00,  1.01s/it]\n",
            "zzz.. napping: 100%|██████████| 4/4 [00:04<00:00,  1.00s/it]\n",
            "zzz.. napping: 100%|██████████| 5/5 [00:05<00:00,  1.00s/it]\n",
            "zzz.. napping: 100%|██████████| 6/6 [00:06<00:00,  1.00s/it]\n",
            "zzz.. napping: 100%|██████████| 7/7 [00:07<00:00,  1.01s/it]\n",
            "zzz.. napping: 100%|██████████| 8/8 [00:08<00:00,  1.01s/it]\n"
          ]
        },
        {
          "name": "stdout",
          "output_type": "stream",
          "text": [
            "Unemployment Rate in Trumbull County, OH , 2027 -------------------\r"
          ]
        },
        {
          "name": "stderr",
          "output_type": "stream",
          "text": [
            "zzz.. napping: 100%|██████████| 1/1 [00:01<00:00,  1.00s/it]\n",
            "zzz.. napping: 100%|██████████| 2/2 [00:02<00:00,  1.01s/it]\n",
            "zzz.. napping: 100%|██████████| 3/3 [00:03<00:00,  1.00s/it]\n",
            "zzz.. napping: 100%|██████████| 4/4 [00:04<00:00,  1.01s/it]\n",
            "zzz.. napping: 100%|██████████| 5/5 [00:05<00:00,  1.00s/it]\n",
            "zzz.. napping: 100%|██████████| 6/6 [00:06<00:00,  1.00s/it]\n",
            "zzz.. napping: 100%|██████████| 7/7 [00:07<00:00,  1.01s/it]\n",
            "zzz.. napping: 100%|██████████| 8/8 [00:08<00:00,  1.01s/it]\n"
          ]
        },
        {
          "name": "stdout",
          "output_type": "stream",
          "text": [
            "Unemployment Rate in Wyandot County, OH , 2037 --------------------\n",
            "\n",
            "Oklahoma\n",
            "Unemployment Rate in McCurtain County, OK , 2085 ------------------\r"
          ]
        },
        {
          "name": "stderr",
          "output_type": "stream",
          "text": [
            "zzz.. napping: 100%|██████████| 1/1 [00:01<00:00,  1.00s/it]\n",
            "zzz.. napping: 100%|██████████| 2/2 [00:02<00:00,  1.01s/it]\n",
            "zzz.. napping: 100%|██████████| 3/3 [00:03<00:00,  1.00s/it]\n",
            "zzz.. napping: 100%|██████████| 4/4 [00:04<00:00,  1.00s/it]\n",
            "zzz.. napping: 100%|██████████| 5/5 [00:05<00:00,  1.01s/it]\n",
            "zzz.. napping: 100%|██████████| 6/6 [00:06<00:00,  1.01s/it]\n",
            "zzz.. napping: 100%|██████████| 7/7 [00:07<00:00,  1.01s/it]\n"
          ]
        },
        {
          "name": "stdout",
          "output_type": "stream",
          "text": [
            "Unemployment Rate in Woodward County, OK , 2114 ---------------------\n",
            "\n",
            "Oregon\n",
            "Unemployment Rate in Tillamook County, OR , 2143 ------------------\r"
          ]
        },
        {
          "name": "stderr",
          "output_type": "stream",
          "text": [
            "zzz.. napping: 100%|██████████| 1/1 [00:01<00:00,  1.00s/it]\n",
            "zzz.. napping: 100%|██████████| 2/2 [00:02<00:00,  1.01s/it]\n",
            "zzz.. napping: 100%|██████████| 3/3 [00:03<00:00,  1.00s/it]\n",
            "zzz.. napping: 100%|██████████| 4/4 [00:04<00:00,  1.01s/it]\n",
            "zzz.. napping: 100%|██████████| 5/5 [00:05<00:00,  1.01s/it]\n",
            "zzz.. napping: 100%|██████████| 6/6 [00:06<00:00,  1.00s/it]\n",
            "zzz.. napping: 100%|██████████| 7/7 [00:07<00:00,  1.01s/it]\n",
            "zzz.. napping: 100%|██████████| 8/8 [00:08<00:00,  1.01s/it]\n"
          ]
        },
        {
          "name": "stdout",
          "output_type": "stream",
          "text": [
            "Unemployment Rate in Yamhill County, OR , 2150 --------------------\n",
            "\n",
            "Pennsylvania\n",
            "Unemployment Rate in Philadelphia County/City, PA , 2201 -----------------\r"
          ]
        },
        {
          "name": "stderr",
          "output_type": "stream",
          "text": [
            "zzz.. napping: 100%|██████████| 1/1 [00:01<00:00,  1.01s/it]\n",
            "zzz.. napping: 100%|██████████| 2/2 [00:02<00:00,  1.01s/it]\n",
            "zzz.. napping: 100%|██████████| 3/3 [00:03<00:00,  1.01s/it]\n",
            "zzz.. napping: 100%|██████████| 4/4 [00:04<00:00,  1.00s/it]\n",
            "zzz.. napping: 100%|██████████| 5/5 [00:05<00:00,  1.01s/it]\n",
            "zzz.. napping: 100%|██████████| 6/6 [00:06<00:00,  1.01s/it]\n",
            "zzz.. napping: 100%|██████████| 7/7 [00:07<00:00,  1.01s/it]\n",
            "zzz.. napping: 100%|██████████| 8/8 [00:08<00:00,  1.01s/it]\n"
          ]
        },
        {
          "name": "stdout",
          "output_type": "stream",
          "text": [
            "Unemployment Rate in York County, PA , 2217 -------------------------\n",
            "\n",
            "Puerto Rico\n",
            "\n",
            "\n",
            "Rhode Island\n",
            "Unemployment Rate in Washington County, RI , 2222 -----------------\n",
            "\n",
            "South Carolina\n",
            "Unemployment Rate in Marion County, SC , 2255 -----------------------\r"
          ]
        },
        {
          "name": "stderr",
          "output_type": "stream",
          "text": [
            "zzz.. napping: 100%|██████████| 1/1 [00:01<00:00,  1.01s/it]\n",
            "zzz.. napping: 100%|██████████| 2/2 [00:02<00:00,  1.01s/it]\n",
            "zzz.. napping: 100%|██████████| 3/3 [00:03<00:00,  1.01s/it]\n",
            "zzz.. napping: 100%|██████████| 4/4 [00:04<00:00,  1.01s/it]\n",
            "zzz.. napping: 100%|██████████| 5/5 [00:05<00:00,  1.01s/it]\n",
            "zzz.. napping: 100%|██████████| 6/6 [00:06<00:00,  1.01s/it]\n",
            "zzz.. napping: 100%|██████████| 7/7 [00:07<00:00,  1.01s/it]\n",
            "zzz.. napping: 100%|██████████| 8/8 [00:08<00:00,  1.01s/it]\n"
          ]
        },
        {
          "name": "stdout",
          "output_type": "stream",
          "text": [
            "Unemployment Rate in York County, SC , 2268 -------------------------\n",
            "\n",
            "South Dakota\n",
            "Unemployment Rate in McPherson County, SD , 2313 -------------------\r"
          ]
        },
        {
          "name": "stderr",
          "output_type": "stream",
          "text": [
            "zzz.. napping: 100%|██████████| 1/1 [00:01<00:00,  1.00s/it]\n",
            "zzz.. napping: 100%|██████████| 2/2 [00:02<00:00,  1.01s/it]\n",
            "zzz.. napping: 100%|██████████| 3/3 [00:03<00:00,  1.00s/it]\n",
            "zzz.. napping: 100%|██████████| 4/4 [00:04<00:00,  1.00s/it]\n",
            "zzz.. napping: 100%|██████████| 5/5 [00:05<00:00,  1.01s/it]\n",
            "zzz.. napping: 100%|██████████| 6/6 [00:06<00:00,  1.01s/it]\n",
            "zzz.. napping: 100%|██████████| 7/7 [00:07<00:00,  1.01s/it]\n",
            "zzz.. napping: 100%|██████████| 8/8 [00:08<00:00,  1.01s/it]\n"
          ]
        },
        {
          "name": "stdout",
          "output_type": "stream",
          "text": [
            "Unemployment Rate in Ziebach County, SD , 2335 --------------------------------\n",
            "\n",
            "Tennessee\n",
            "Unemployment Rate in Hardin County, TN , 2371 ---------------------\r"
          ]
        },
        {
          "name": "stderr",
          "output_type": "stream",
          "text": [
            "zzz.. napping: 100%|██████████| 1/1 [00:01<00:00,  1.01s/it]\n",
            "zzz.. napping: 100%|██████████| 2/2 [00:02<00:00,  1.01s/it]\n",
            "zzz.. napping: 100%|██████████| 3/3 [00:03<00:00,  1.01s/it]\n",
            "zzz.. napping: 100%|██████████| 4/4 [00:04<00:00,  1.00s/it]\n",
            "zzz.. napping: 100%|██████████| 5/5 [00:05<00:00,  1.01s/it]\n",
            "zzz.. napping: 100%|██████████| 6/6 [00:06<00:00,  1.01s/it]\n",
            "zzz.. napping: 100%|██████████| 7/7 [00:07<00:00,  1.01s/it]\n",
            "zzz.. napping: 100%|██████████| 8/8 [00:08<00:00,  1.01s/it]\n"
          ]
        },
        {
          "name": "stdout",
          "output_type": "stream",
          "text": [
            "Unemployment Rate in Wilson County, TN , 2430 ---------------------\n",
            "\n",
            "Texas\n"
          ]
        },
        {
          "name": "stderr",
          "output_type": "stream",
          "text": [
            "zzz.. napping: 100%|██████████| 1/1 [00:01<00:00,  1.01s/it]\n",
            "zzz.. napping: 100%|██████████| 2/2 [00:02<00:00,  1.01s/it]\n",
            "zzz.. napping: 100%|██████████| 3/3 [00:03<00:00,  1.01s/it]\n",
            "zzz.. napping: 100%|██████████| 4/4 [00:04<00:00,  1.01s/it]\n",
            "zzz.. napping: 100%|██████████| 5/5 [00:05<00:00,  1.00s/it]\n",
            "zzz.. napping: 100%|██████████| 6/6 [00:06<00:00,  1.01s/it]\n",
            "zzz.. napping: 100%|██████████| 7/7 [00:07<00:00,  1.01s/it]\n",
            "zzz.. napping: 100%|██████████| 8/8 [00:08<00:00,  1.01s/it]\n"
          ]
        },
        {
          "name": "stdout",
          "output_type": "stream",
          "text": [
            "Unemployment Rate in Deaf Smith County, TX , 2489 --------------------\r"
          ]
        },
        {
          "name": "stderr",
          "output_type": "stream",
          "text": [
            "zzz.. napping: 100%|██████████| 1/1 [00:01<00:00,  1.01s/it]\n",
            "zzz.. napping: 100%|██████████| 2/2 [00:02<00:00,  1.01s/it]\n",
            "zzz.. napping: 100%|██████████| 3/3 [00:03<00:00,  1.01s/it]\n",
            "zzz.. napping: 100%|██████████| 4/4 [00:04<00:00,  1.01s/it]\n",
            "zzz.. napping: 100%|██████████| 5/5 [00:05<00:00,  1.01s/it]\n",
            "zzz.. napping: 100%|██████████| 6/6 [00:06<00:00,  1.01s/it]\n",
            "zzz.. napping: 100%|██████████| 7/7 [00:07<00:00,  1.01s/it]\n",
            "zzz.. napping: 100%|██████████| 8/8 [00:08<00:00,  1.01s/it]\n"
          ]
        },
        {
          "name": "stdout",
          "output_type": "stream",
          "text": [
            "Unemployment Rate in Jack County, TX , 2549 -----------------------\r"
          ]
        },
        {
          "name": "stderr",
          "output_type": "stream",
          "text": [
            "zzz.. napping: 100%|██████████| 1/1 [00:01<00:00,  1.01s/it]\n",
            "zzz.. napping: 100%|██████████| 2/2 [00:02<00:00,  1.01s/it]\n",
            "zzz.. napping: 100%|██████████| 3/3 [00:03<00:00,  1.01s/it]\n",
            "zzz.. napping: 100%|██████████| 4/4 [00:04<00:00,  1.01s/it]\n",
            "zzz.. napping: 100%|██████████| 5/5 [00:05<00:00,  1.01s/it]\n",
            "zzz.. napping: 100%|██████████| 6/6 [00:06<00:00,  1.01s/it]\n",
            "zzz.. napping: 100%|██████████| 7/7 [00:07<00:00,  1.01s/it]\n",
            "zzz.. napping: 100%|██████████| 8/8 [00:08<00:00,  1.01s/it]\n"
          ]
        },
        {
          "name": "stdout",
          "output_type": "stream",
          "text": [
            "Unemployment Rate in Ochiltree County, TX , 2609 -------------------\r"
          ]
        },
        {
          "name": "stderr",
          "output_type": "stream",
          "text": [
            "zzz.. napping: 100%|██████████| 1/1 [00:01<00:00,  1.01s/it]\n",
            "zzz.. napping: 100%|██████████| 2/2 [00:02<00:00,  1.01s/it]\n",
            "zzz.. napping: 100%|██████████| 3/3 [00:03<00:00,  1.01s/it]\n",
            "zzz.. napping: 100%|██████████| 4/4 [00:04<00:00,  1.01s/it]\n",
            "zzz.. napping: 100%|██████████| 5/5 [00:05<00:00,  1.01s/it]\n",
            "zzz.. napping: 100%|██████████| 6/6 [00:06<00:00,  1.01s/it]\n",
            "zzz.. napping: 100%|██████████| 7/7 [00:07<00:00,  1.00s/it]\n"
          ]
        },
        {
          "name": "stdout",
          "output_type": "stream",
          "text": [
            "Unemployment Rate in Washington County, TX , 2669 --------------------\r"
          ]
        },
        {
          "name": "stderr",
          "output_type": "stream",
          "text": [
            "zzz.. napping: 100%|██████████| 1/1 [00:01<00:00,  1.01s/it]\n",
            "zzz.. napping: 100%|██████████| 2/2 [00:02<00:00,  1.01s/it]\n",
            "zzz.. napping: 100%|██████████| 3/3 [00:03<00:00,  1.01s/it]\n",
            "zzz.. napping: 100%|██████████| 4/4 [00:04<00:00,  1.01s/it]\n",
            "zzz.. napping: 100%|██████████| 5/5 [00:05<00:00,  1.01s/it]\n",
            "zzz.. napping: 100%|██████████| 6/6 [00:06<00:00,  1.01s/it]\n",
            "zzz.. napping: 100%|██████████| 7/7 [00:07<00:00,  1.01s/it]\n",
            "zzz.. napping: 100%|██████████| 8/8 [00:08<00:00,  1.01s/it]\n"
          ]
        },
        {
          "name": "stdout",
          "output_type": "stream",
          "text": [
            "Unemployment Rate in Zavala County, TX , 2684 ---------------------\n",
            "\n",
            "Utah\n",
            "Unemployment Rate in Weber County, UT , 2713 ----------------------\n",
            "\n",
            "Vermont\n",
            "Unemployment Rate in Washington County, VT , 2725 -----------------\r"
          ]
        },
        {
          "name": "stderr",
          "output_type": "stream",
          "text": [
            "zzz.. napping: 100%|██████████| 1/1 [00:01<00:00,  1.01s/it]\n",
            "zzz.. napping: 100%|██████████| 2/2 [00:02<00:00,  1.01s/it]\n",
            "zzz.. napping: 100%|██████████| 3/3 [00:03<00:00,  1.01s/it]\n",
            "zzz.. napping: 100%|██████████| 4/4 [00:04<00:00,  1.01s/it]\n",
            "zzz.. napping: 100%|██████████| 5/5 [00:05<00:00,  1.01s/it]\n",
            "zzz.. napping: 100%|██████████| 6/6 [00:06<00:00,  1.01s/it]\n",
            "zzz.. napping: 100%|██████████| 7/7 [00:07<00:00,  1.01s/it]\n",
            "zzz.. napping: 100%|██████████| 8/8 [00:08<00:00,  1.01s/it]\n"
          ]
        },
        {
          "name": "stdout",
          "output_type": "stream",
          "text": [
            "Unemployment Rate in Windsor County, VT , 2727 -----------------\n",
            "\n",
            "Virgin Islands\n",
            "\n",
            "\n",
            "Virginia\n",
            "Data could not be retrieved, returning None2744 -----------------------------\n"
          ]
        },
        {
          "name": "stderr",
          "output_type": "stream",
          "text": [
            "zzz.. napping: 100%|██████████| 1/1 [00:00<00:00,  1.09it/s]\n"
          ]
        },
        {
          "name": "stdout",
          "output_type": "stream",
          "text": [
            "Unemployment Rate in New Kent County, VA , 2812 -----------------------\r"
          ]
        },
        {
          "name": "stderr",
          "output_type": "stream",
          "text": [
            "zzz.. napping: 100%|██████████| 1/1 [00:01<00:00,  1.01s/it]\n",
            "zzz.. napping: 100%|██████████| 2/2 [00:02<00:00,  1.01s/it]\n",
            "zzz.. napping: 100%|██████████| 3/3 [00:03<00:00,  1.01s/it]\n",
            "zzz.. napping: 100%|██████████| 4/4 [00:04<00:00,  1.01s/it]\n",
            "zzz.. napping: 100%|██████████| 5/5 [00:05<00:00,  1.01s/it]\n",
            "zzz.. napping: 100%|██████████| 6/6 [00:06<00:00,  1.01s/it]\n",
            "zzz.. napping: 100%|██████████| 7/7 [06:09<00:00, 52.80s/it] \n"
          ]
        },
        {
          "name": "stdout",
          "output_type": "stream",
          "text": [
            "Unemployment Rate in York County, VA , 2861 ---------------------------\n",
            "\n",
            "West Virginia\n",
            "Unemployment Rate in Doddridge County, WV , 2870 -----------------\r"
          ]
        },
        {
          "name": "stderr",
          "output_type": "stream",
          "text": [
            "zzz.. napping: 100%|██████████| 1/1 [00:01<00:00,  1.00s/it]\n",
            "zzz.. napping: 100%|██████████| 2/2 [00:02<00:00,  1.01s/it]\n",
            "zzz.. napping: 100%|██████████| 3/3 [00:03<00:00,  1.00s/it]\n",
            "zzz.. napping: 100%|██████████| 4/4 [00:04<00:00,  1.01s/it]\n",
            "zzz.. napping: 100%|██████████| 5/5 [00:05<00:00,  1.00s/it]\n",
            "zzz.. napping: 100%|██████████| 6/6 [00:06<00:00,  1.00s/it]\n",
            "zzz.. napping: 100%|██████████| 7/7 [00:07<00:00,  1.00s/it]\n",
            "zzz.. napping: 100%|██████████| 8/8 [00:08<00:00,  1.00s/it]\n"
          ]
        },
        {
          "name": "stdout",
          "output_type": "stream",
          "text": [
            "Unemployment Rate in Wyoming County, WV , 2916 --------------------\n",
            "\n",
            "Washington\n",
            "Unemployment Rate in Garfield County, WA , 2928 -----------------\r"
          ]
        },
        {
          "name": "stderr",
          "output_type": "stream",
          "text": [
            "zzz.. napping: 100%|██████████| 1/1 [00:01<00:00,  1.01s/it]\n",
            "zzz.. napping: 100%|██████████| 2/2 [00:02<00:00,  1.00s/it]\n",
            "zzz.. napping: 100%|██████████| 3/3 [00:03<00:00,  1.04s/it]\n",
            "zzz.. napping: 100%|██████████| 4/4 [00:04<00:00,  1.00s/it]\n",
            "zzz.. napping: 100%|██████████| 5/5 [00:05<00:00,  1.00s/it]\n",
            "zzz.. napping: 100%|██████████| 6/6 [00:06<00:00,  1.01s/it]\n",
            "zzz.. napping: 100%|██████████| 7/7 [00:07<00:00,  1.00s/it]\n",
            "zzz.. napping: 100%|██████████| 8/8 [00:08<00:00,  1.01s/it]\n",
            "zzz.. napping: 100%|██████████| 9/9 [00:09<00:00,  1.00s/it]\n"
          ]
        },
        {
          "name": "stdout",
          "output_type": "stream",
          "text": [
            "Unemployment Rate in Yakima County, WA , 2955 -----------------------\n",
            "\n",
            "Wisconsin\n",
            "Unemployment Rate in Kewaunee County, WI , 2986 --------------------\r"
          ]
        },
        {
          "name": "stderr",
          "output_type": "stream",
          "text": [
            "zzz.. napping: 100%|██████████| 1/1 [00:01<00:00,  1.00s/it]\n",
            "zzz.. napping: 100%|██████████| 2/2 [00:02<00:00,  1.01s/it]\n",
            "zzz.. napping: 100%|██████████| 3/3 [00:03<00:00,  1.01s/it]\n",
            "zzz.. napping: 100%|██████████| 4/4 [00:04<00:00,  1.01s/it]\n",
            "zzz.. napping: 100%|██████████| 5/5 [00:05<00:00,  1.00s/it]\n",
            "zzz.. napping: 100%|██████████| 6/6 [00:06<00:00,  1.00s/it]\n",
            "zzz.. napping: 100%|██████████| 7/7 [00:07<00:00,  1.01s/it]\n",
            "zzz.. napping: 100%|██████████| 8/8 [00:08<00:00,  1.01s/it]\n"
          ]
        },
        {
          "name": "stdout",
          "output_type": "stream",
          "text": [
            "Unemployment Rate in Wood County, WI , 3027 ------------------------\n",
            "\n",
            "Wyoming\n",
            "Unemployment Rate in Platte County, WY , 3043 ----------------------\r"
          ]
        },
        {
          "name": "stderr",
          "output_type": "stream",
          "text": [
            "zzz.. napping: 100%|██████████| 1/1 [00:01<00:00,  1.00s/it]\n",
            "zzz.. napping: 100%|██████████| 2/2 [00:02<00:00,  1.01s/it]\n",
            "zzz.. napping: 100%|██████████| 3/3 [00:03<00:00,  1.02s/it]\n",
            "zzz.. napping: 100%|██████████| 4/4 [00:04<00:00,  1.00s/it]\n",
            "zzz.. napping: 100%|██████████| 5/5 [00:05<00:00,  1.00s/it]\n",
            "zzz.. napping: 100%|██████████| 6/6 [00:06<00:00,  1.00s/it]\n",
            "zzz.. napping: 100%|██████████| 7/7 [00:07<00:00,  1.01s/it]\n",
            "zzz.. napping: 100%|██████████| 8/8 [00:08<00:00,  1.00s/it]\n"
          ]
        },
        {
          "name": "stdout",
          "output_type": "stream",
          "text": [
            "Unemployment Rate in Weston County, WY , 3050 ---------------------\r"
          ]
        }
      ],
      "source": [
        "n = 0\n",
        "\n",
        "with open('id', 'w+') as file:\n",
        "  for state_dict in fred.get_child_categories(27281)['categories']:\n",
        "    print ('\\n')\n",
        "    print (state_dict['name'])\n",
        "    state_id = state_dict['id']\n",
        "    state_item_list = keep_trying(fred.get_child_categories, state_id, 'categories')\n",
        "    # fred.get_child_categories(state_id)['categories']\n",
        "\n",
        "    no_county = True  # by default, assume there's no county in a state, like Alaska\n",
        "    for state_item in state_item_list:\n",
        "      if state_item['name'] == 'Counties':  # find cat id of County (rather than MSA)\n",
        "        cat_id = state_item['id']\n",
        "        county_list = keep_trying(fred.get_child_categories, cat_id, 'categories')\n",
        "        # fred.get_child_categories(cat_id)['categories']\n",
        "        no_county = False  # flag that 'Counties' is found\n",
        "        break  # break the search loop\n",
        "\n",
        "    if no_county:\n",
        "      continue  # no county in the state, move on the next\n",
        "\n",
        "    for county in county_list:\n",
        "      id = county['id']\n",
        "      name = county['name']\n",
        "\n",
        "      item_list = keep_trying(fred.get_series_in_a_category, id, 'seriess')\n",
        "      # fred.get_series_in_a_category(id)['seriess']\n",
        "\n",
        "        \n",
        "      for item in item_list:\n",
        "        if item['title'][:17] == 'Unemployment Rate' and item['frequency'] == 'Monthly':  # find the series of 'unemployment rate'\n",
        "          temp_series = item['id']\n",
        "          temp_title = item['title']\n",
        "          file.write(f'{temp_series}, {temp_title}\\n')\n",
        "          n += 1\n",
        "          print(f'{temp_title} , {n} -----------------', end = '\\r')\n",
        "          break  # break out from the inner search loop"
      ]
    },
    {
      "attachments": {},
      "cell_type": "markdown",
      "metadata": {},
      "source": [
        "### query and save unemployment data"
      ]
    },
    {
      "cell_type": "code",
      "execution_count": 31,
      "metadata": {},
      "outputs": [],
      "source": [
        "id_name_list = []\n",
        "with open('id', 'r') as file:\n",
        "    for row in file:\n",
        "        splitted_str = row.split(',')\n",
        "        if len(splitted_str) == 3:\n",
        "            id, county, state = splitted_str\n",
        "            state = state[: - 1]  # remove line break\n",
        "            county = county[22:]  # remove 'unemployment rate in'\n",
        "            id_name_list.append([id, f'{county}_{state}'])\n",
        "        else:\n",
        "            id, county = splitted_str\n",
        "            county = county[22:]  # remove 'unemployment rate in'\n",
        "            id_name_list.append([id, f'{county}'])"
      ]
    },
    {
      "cell_type": "code",
      "execution_count": 57,
      "metadata": {},
      "outputs": [
        {
          "name": "stderr",
          "output_type": "stream",
          "text": [
            "  9%|▉         | 234/2567 [01:05<10:01,  3.88it/s]"
          ]
        },
        {
          "name": "stdout",
          "output_type": "stream",
          "text": [
            "Error Message: Too Many Requests.  Exceeded Rate Limit\n"
          ]
        },
        {
          "name": "stderr",
          "output_type": "stream",
          "text": [
            "zzz.. napping: 100%|██████████| 1/1 [00:01<00:00,  1.01s/it]\n"
          ]
        },
        {
          "name": "stdout",
          "output_type": "stream",
          "text": [
            "Error Message: Too Many Requests.  Exceeded Rate Limit\n"
          ]
        },
        {
          "name": "stderr",
          "output_type": "stream",
          "text": [
            "zzz.. napping: 100%|██████████| 2/2 [00:02<00:00,  1.01s/it]\n"
          ]
        },
        {
          "name": "stdout",
          "output_type": "stream",
          "text": [
            "Error Message: Too Many Requests.  Exceeded Rate Limit\n"
          ]
        },
        {
          "name": "stderr",
          "output_type": "stream",
          "text": [
            "zzz.. napping: 100%|██████████| 3/3 [00:03<00:00,  1.01s/it]\n"
          ]
        },
        {
          "name": "stdout",
          "output_type": "stream",
          "text": [
            "Error Message: Too Many Requests.  Exceeded Rate Limit\n"
          ]
        },
        {
          "name": "stderr",
          "output_type": "stream",
          "text": [
            "zzz.. napping: 100%|██████████| 4/4 [00:04<00:00,  1.01s/it]\n"
          ]
        },
        {
          "name": "stdout",
          "output_type": "stream",
          "text": [
            "Error Message: Too Many Requests.  Exceeded Rate Limit\n"
          ]
        },
        {
          "name": "stderr",
          "output_type": "stream",
          "text": [
            "zzz.. napping: 100%|██████████| 5/5 [00:05<00:00,  1.01s/it]\n"
          ]
        },
        {
          "name": "stdout",
          "output_type": "stream",
          "text": [
            "Error Message: Too Many Requests.  Exceeded Rate Limit\n"
          ]
        },
        {
          "name": "stderr",
          "output_type": "stream",
          "text": [
            "zzz.. napping: 100%|██████████| 6/6 [00:06<00:00,  1.01s/it]\n"
          ]
        },
        {
          "name": "stdout",
          "output_type": "stream",
          "text": [
            "Error Message: Too Many Requests.  Exceeded Rate Limit\n"
          ]
        },
        {
          "name": "stderr",
          "output_type": "stream",
          "text": [
            "zzz.. napping: 100%|██████████| 7/7 [00:07<00:00,  1.01s/it]\n",
            " 14%|█▍        | 354/2567 [02:15<11:56,  3.09it/s]  "
          ]
        },
        {
          "name": "stdout",
          "output_type": "stream",
          "text": [
            "Error Message: Too Many Requests.  Exceeded Rate Limit\n"
          ]
        },
        {
          "name": "stderr",
          "output_type": "stream",
          "text": [
            "zzz.. napping: 100%|██████████| 1/1 [00:01<00:00,  1.01s/it]\n"
          ]
        },
        {
          "name": "stdout",
          "output_type": "stream",
          "text": [
            "Error Message: Too Many Requests.  Exceeded Rate Limit\n"
          ]
        },
        {
          "name": "stderr",
          "output_type": "stream",
          "text": [
            "zzz.. napping: 100%|██████████| 2/2 [00:02<00:00,  1.01s/it]\n"
          ]
        },
        {
          "name": "stdout",
          "output_type": "stream",
          "text": [
            "Error Message: Too Many Requests.  Exceeded Rate Limit\n"
          ]
        },
        {
          "name": "stderr",
          "output_type": "stream",
          "text": [
            "zzz.. napping: 100%|██████████| 3/3 [00:03<00:00,  1.01s/it]\n"
          ]
        },
        {
          "name": "stdout",
          "output_type": "stream",
          "text": [
            "Error Message: Too Many Requests.  Exceeded Rate Limit\n"
          ]
        },
        {
          "name": "stderr",
          "output_type": "stream",
          "text": [
            "zzz.. napping: 100%|██████████| 4/4 [00:04<00:00,  1.01s/it]\n"
          ]
        },
        {
          "name": "stdout",
          "output_type": "stream",
          "text": [
            "Error Message: Too Many Requests.  Exceeded Rate Limit\n"
          ]
        },
        {
          "name": "stderr",
          "output_type": "stream",
          "text": [
            "zzz.. napping: 100%|██████████| 5/5 [00:05<00:00,  1.01s/it]\n"
          ]
        },
        {
          "name": "stdout",
          "output_type": "stream",
          "text": [
            "Error Message: Too Many Requests.  Exceeded Rate Limit\n"
          ]
        },
        {
          "name": "stderr",
          "output_type": "stream",
          "text": [
            "zzz.. napping: 100%|██████████| 6/6 [00:06<00:00,  1.01s/it]\n",
            " 18%|█▊        | 474/2567 [03:17<11:09,  3.13it/s]  "
          ]
        },
        {
          "name": "stdout",
          "output_type": "stream",
          "text": [
            "Error Message: Too Many Requests.  Exceeded Rate Limit\n"
          ]
        },
        {
          "name": "stderr",
          "output_type": "stream",
          "text": [
            "zzz.. napping: 100%|██████████| 1/1 [00:01<00:00,  1.01s/it]\n"
          ]
        },
        {
          "name": "stdout",
          "output_type": "stream",
          "text": [
            "Error Message: Too Many Requests.  Exceeded Rate Limit\n"
          ]
        },
        {
          "name": "stderr",
          "output_type": "stream",
          "text": [
            "zzz.. napping: 100%|██████████| 2/2 [00:02<00:00,  1.02s/it]\n"
          ]
        },
        {
          "name": "stdout",
          "output_type": "stream",
          "text": [
            "Error Message: Too Many Requests.  Exceeded Rate Limit\n"
          ]
        },
        {
          "name": "stderr",
          "output_type": "stream",
          "text": [
            "zzz.. napping: 100%|██████████| 3/3 [00:03<00:00,  1.01s/it]\n"
          ]
        },
        {
          "name": "stdout",
          "output_type": "stream",
          "text": [
            "Error Message: Too Many Requests.  Exceeded Rate Limit\n"
          ]
        },
        {
          "name": "stderr",
          "output_type": "stream",
          "text": [
            "zzz.. napping: 100%|██████████| 4/4 [00:04<00:00,  1.01s/it]\n"
          ]
        },
        {
          "name": "stdout",
          "output_type": "stream",
          "text": [
            "Error Message: Too Many Requests.  Exceeded Rate Limit\n"
          ]
        },
        {
          "name": "stderr",
          "output_type": "stream",
          "text": [
            "zzz.. napping: 100%|██████████| 5/5 [00:05<00:00,  1.01s/it]\n",
            " 23%|██▎       | 594/2567 [04:13<12:46,  2.57it/s]  "
          ]
        },
        {
          "name": "stdout",
          "output_type": "stream",
          "text": [
            "Error Message: Too Many Requests.  Exceeded Rate Limit\n"
          ]
        },
        {
          "name": "stderr",
          "output_type": "stream",
          "text": [
            "zzz.. napping: 100%|██████████| 1/1 [00:01<00:00,  1.01s/it]\n"
          ]
        },
        {
          "name": "stdout",
          "output_type": "stream",
          "text": [
            "Error Message: Too Many Requests.  Exceeded Rate Limit\n"
          ]
        },
        {
          "name": "stderr",
          "output_type": "stream",
          "text": [
            "zzz.. napping: 100%|██████████| 2/2 [00:02<00:00,  1.01s/it]\n"
          ]
        },
        {
          "name": "stdout",
          "output_type": "stream",
          "text": [
            "Error Message: Too Many Requests.  Exceeded Rate Limit\n"
          ]
        },
        {
          "name": "stderr",
          "output_type": "stream",
          "text": [
            "zzz.. napping: 100%|██████████| 3/3 [00:03<00:00,  1.01s/it]\n"
          ]
        },
        {
          "name": "stdout",
          "output_type": "stream",
          "text": [
            "Error Message: Too Many Requests.  Exceeded Rate Limit\n"
          ]
        },
        {
          "name": "stderr",
          "output_type": "stream",
          "text": [
            "zzz.. napping: 100%|██████████| 4/4 [00:04<00:00,  1.01s/it]\n"
          ]
        },
        {
          "name": "stdout",
          "output_type": "stream",
          "text": [
            "Error Message: Too Many Requests.  Exceeded Rate Limit\n"
          ]
        },
        {
          "name": "stderr",
          "output_type": "stream",
          "text": [
            "zzz.. napping: 100%|██████████| 5/5 [00:05<00:00,  1.01s/it]\n"
          ]
        },
        {
          "name": "stdout",
          "output_type": "stream",
          "text": [
            "Error Message: Too Many Requests.  Exceeded Rate Limit\n"
          ]
        },
        {
          "name": "stderr",
          "output_type": "stream",
          "text": [
            "zzz.. napping: 100%|██████████| 6/6 [00:06<00:00,  1.01s/it]\n",
            " 28%|██▊       | 714/2567 [05:11<08:42,  3.55it/s]  "
          ]
        },
        {
          "name": "stdout",
          "output_type": "stream",
          "text": [
            "Error Message: Too Many Requests.  Exceeded Rate Limit\n"
          ]
        },
        {
          "name": "stderr",
          "output_type": "stream",
          "text": [
            "zzz.. napping: 100%|██████████| 1/1 [00:01<00:00,  1.01s/it]\n"
          ]
        },
        {
          "name": "stdout",
          "output_type": "stream",
          "text": [
            "Error Message: Too Many Requests.  Exceeded Rate Limit\n"
          ]
        },
        {
          "name": "stderr",
          "output_type": "stream",
          "text": [
            "zzz.. napping: 100%|██████████| 2/2 [00:02<00:00,  1.01s/it]\n"
          ]
        },
        {
          "name": "stdout",
          "output_type": "stream",
          "text": [
            "Error Message: Too Many Requests.  Exceeded Rate Limit\n"
          ]
        },
        {
          "name": "stderr",
          "output_type": "stream",
          "text": [
            "zzz.. napping: 100%|██████████| 3/3 [00:03<00:00,  1.01s/it]\n"
          ]
        },
        {
          "name": "stdout",
          "output_type": "stream",
          "text": [
            "Error Message: Too Many Requests.  Exceeded Rate Limit\n"
          ]
        },
        {
          "name": "stderr",
          "output_type": "stream",
          "text": [
            "zzz.. napping: 100%|██████████| 4/4 [00:04<00:00,  1.01s/it]\n"
          ]
        },
        {
          "name": "stdout",
          "output_type": "stream",
          "text": [
            "Error Message: Too Many Requests.  Exceeded Rate Limit\n"
          ]
        },
        {
          "name": "stderr",
          "output_type": "stream",
          "text": [
            "zzz.. napping: 100%|██████████| 5/5 [00:05<00:00,  1.01s/it]\n"
          ]
        },
        {
          "name": "stdout",
          "output_type": "stream",
          "text": [
            "Error Message: Too Many Requests.  Exceeded Rate Limit\n"
          ]
        },
        {
          "name": "stderr",
          "output_type": "stream",
          "text": [
            "zzz.. napping: 100%|██████████| 6/6 [00:06<00:00,  1.01s/it]\n",
            " 32%|███▏      | 834/2567 [06:08<07:52,  3.66it/s]  "
          ]
        },
        {
          "name": "stdout",
          "output_type": "stream",
          "text": [
            "Error Message: Too Many Requests.  Exceeded Rate Limit\n"
          ]
        },
        {
          "name": "stderr",
          "output_type": "stream",
          "text": [
            "zzz.. napping: 100%|██████████| 1/1 [00:01<00:00,  1.01s/it]\n"
          ]
        },
        {
          "name": "stdout",
          "output_type": "stream",
          "text": [
            "Error Message: Too Many Requests.  Exceeded Rate Limit\n"
          ]
        },
        {
          "name": "stderr",
          "output_type": "stream",
          "text": [
            "zzz.. napping: 100%|██████████| 2/2 [00:02<00:00,  1.01s/it]\n"
          ]
        },
        {
          "name": "stdout",
          "output_type": "stream",
          "text": [
            "Error Message: Too Many Requests.  Exceeded Rate Limit\n"
          ]
        },
        {
          "name": "stderr",
          "output_type": "stream",
          "text": [
            "zzz.. napping: 100%|██████████| 3/3 [00:03<00:00,  1.03s/it]\n"
          ]
        },
        {
          "name": "stdout",
          "output_type": "stream",
          "text": [
            "Error Message: Too Many Requests.  Exceeded Rate Limit\n"
          ]
        },
        {
          "name": "stderr",
          "output_type": "stream",
          "text": [
            "zzz.. napping: 100%|██████████| 4/4 [00:04<00:00,  1.01s/it]\n"
          ]
        },
        {
          "name": "stdout",
          "output_type": "stream",
          "text": [
            "Error Message: Too Many Requests.  Exceeded Rate Limit\n"
          ]
        },
        {
          "name": "stderr",
          "output_type": "stream",
          "text": [
            "zzz.. napping: 100%|██████████| 5/5 [00:05<00:00,  1.01s/it]\n"
          ]
        },
        {
          "name": "stdout",
          "output_type": "stream",
          "text": [
            "Error Message: Too Many Requests.  Exceeded Rate Limit\n"
          ]
        },
        {
          "name": "stderr",
          "output_type": "stream",
          "text": [
            "zzz.. napping: 100%|██████████| 6/6 [00:06<00:00,  1.01s/it]\n"
          ]
        },
        {
          "name": "stdout",
          "output_type": "stream",
          "text": [
            "Error Message: Too Many Requests.  Exceeded Rate Limit\n"
          ]
        },
        {
          "name": "stderr",
          "output_type": "stream",
          "text": [
            "zzz.. napping: 100%|██████████| 7/7 [00:07<00:00,  1.01s/it]\n",
            " 37%|███▋      | 954/2567 [07:13<07:26,  3.61it/s]  "
          ]
        },
        {
          "name": "stdout",
          "output_type": "stream",
          "text": [
            "Error Message: Too Many Requests.  Exceeded Rate Limit\n"
          ]
        },
        {
          "name": "stderr",
          "output_type": "stream",
          "text": [
            "zzz.. napping: 100%|██████████| 1/1 [00:01<00:00,  1.01s/it]\n"
          ]
        },
        {
          "name": "stdout",
          "output_type": "stream",
          "text": [
            "Error Message: Too Many Requests.  Exceeded Rate Limit\n"
          ]
        },
        {
          "name": "stderr",
          "output_type": "stream",
          "text": [
            "zzz.. napping: 100%|██████████| 2/2 [00:02<00:00,  1.02s/it]\n"
          ]
        },
        {
          "name": "stdout",
          "output_type": "stream",
          "text": [
            "Error Message: Too Many Requests.  Exceeded Rate Limit\n"
          ]
        },
        {
          "name": "stderr",
          "output_type": "stream",
          "text": [
            "zzz.. napping: 100%|██████████| 3/3 [00:03<00:00,  1.01s/it]\n"
          ]
        },
        {
          "name": "stdout",
          "output_type": "stream",
          "text": [
            "Error Message: Too Many Requests.  Exceeded Rate Limit\n"
          ]
        },
        {
          "name": "stderr",
          "output_type": "stream",
          "text": [
            "zzz.. napping: 100%|██████████| 4/4 [00:04<00:00,  1.01s/it]\n"
          ]
        },
        {
          "name": "stdout",
          "output_type": "stream",
          "text": [
            "Error Message: Too Many Requests.  Exceeded Rate Limit\n"
          ]
        },
        {
          "name": "stderr",
          "output_type": "stream",
          "text": [
            "zzz.. napping: 100%|██████████| 5/5 [00:05<00:00,  1.01s/it]\n"
          ]
        },
        {
          "name": "stdout",
          "output_type": "stream",
          "text": [
            "Error Message: Too Many Requests.  Exceeded Rate Limit\n"
          ]
        },
        {
          "name": "stderr",
          "output_type": "stream",
          "text": [
            "zzz.. napping: 100%|██████████| 6/6 [00:06<00:00,  1.01s/it]\n",
            " 42%|████▏     | 1074/2567 [08:10<07:30,  3.31it/s] "
          ]
        },
        {
          "name": "stdout",
          "output_type": "stream",
          "text": [
            "Error Message: Too Many Requests.  Exceeded Rate Limit\n"
          ]
        },
        {
          "name": "stderr",
          "output_type": "stream",
          "text": [
            "zzz.. napping: 100%|██████████| 1/1 [00:01<00:00,  1.01s/it]\n"
          ]
        },
        {
          "name": "stdout",
          "output_type": "stream",
          "text": [
            "Error Message: Too Many Requests.  Exceeded Rate Limit\n"
          ]
        },
        {
          "name": "stderr",
          "output_type": "stream",
          "text": [
            "zzz.. napping: 100%|██████████| 2/2 [00:02<00:00,  1.01s/it]\n"
          ]
        },
        {
          "name": "stdout",
          "output_type": "stream",
          "text": [
            "Error Message: Too Many Requests.  Exceeded Rate Limit\n"
          ]
        },
        {
          "name": "stderr",
          "output_type": "stream",
          "text": [
            "zzz.. napping: 100%|██████████| 3/3 [00:03<00:00,  1.02s/it]\n"
          ]
        },
        {
          "name": "stdout",
          "output_type": "stream",
          "text": [
            "Error Message: Too Many Requests.  Exceeded Rate Limit\n"
          ]
        },
        {
          "name": "stderr",
          "output_type": "stream",
          "text": [
            "zzz.. napping: 100%|██████████| 4/4 [00:04<00:00,  1.02s/it]\n"
          ]
        },
        {
          "name": "stdout",
          "output_type": "stream",
          "text": [
            "Error Message: Too Many Requests.  Exceeded Rate Limit\n"
          ]
        },
        {
          "name": "stderr",
          "output_type": "stream",
          "text": [
            "zzz.. napping: 100%|██████████| 5/5 [00:05<00:00,  1.02s/it]\n"
          ]
        },
        {
          "name": "stdout",
          "output_type": "stream",
          "text": [
            "Error Message: Too Many Requests.  Exceeded Rate Limit\n"
          ]
        },
        {
          "name": "stderr",
          "output_type": "stream",
          "text": [
            "zzz.. napping: 100%|██████████| 6/6 [00:06<00:00,  1.02s/it]\n",
            " 47%|████▋     | 1194/2567 [09:09<06:24,  3.57it/s]  "
          ]
        },
        {
          "name": "stdout",
          "output_type": "stream",
          "text": [
            "Error Message: Too Many Requests.  Exceeded Rate Limit\n"
          ]
        },
        {
          "name": "stderr",
          "output_type": "stream",
          "text": [
            "zzz.. napping: 100%|██████████| 1/1 [00:01<00:00,  1.01s/it]\n"
          ]
        },
        {
          "name": "stdout",
          "output_type": "stream",
          "text": [
            "Error Message: Too Many Requests.  Exceeded Rate Limit\n"
          ]
        },
        {
          "name": "stderr",
          "output_type": "stream",
          "text": [
            "zzz.. napping: 100%|██████████| 2/2 [00:02<00:00,  1.01s/it]\n"
          ]
        },
        {
          "name": "stdout",
          "output_type": "stream",
          "text": [
            "Error Message: Too Many Requests.  Exceeded Rate Limit\n"
          ]
        },
        {
          "name": "stderr",
          "output_type": "stream",
          "text": [
            "zzz.. napping: 100%|██████████| 3/3 [00:03<00:00,  1.01s/it]\n"
          ]
        },
        {
          "name": "stdout",
          "output_type": "stream",
          "text": [
            "Error Message: Too Many Requests.  Exceeded Rate Limit\n"
          ]
        },
        {
          "name": "stderr",
          "output_type": "stream",
          "text": [
            "zzz.. napping: 100%|██████████| 4/4 [00:04<00:00,  1.01s/it]\n"
          ]
        },
        {
          "name": "stdout",
          "output_type": "stream",
          "text": [
            "Error Message: Too Many Requests.  Exceeded Rate Limit\n"
          ]
        },
        {
          "name": "stderr",
          "output_type": "stream",
          "text": [
            "zzz.. napping: 100%|██████████| 5/5 [00:05<00:00,  1.01s/it]\n"
          ]
        },
        {
          "name": "stdout",
          "output_type": "stream",
          "text": [
            "Error Message: Too Many Requests.  Exceeded Rate Limit\n"
          ]
        },
        {
          "name": "stderr",
          "output_type": "stream",
          "text": [
            "zzz.. napping: 100%|██████████| 6/6 [00:06<00:00,  1.01s/it]\n"
          ]
        },
        {
          "name": "stdout",
          "output_type": "stream",
          "text": [
            "Error Message: Too Many Requests.  Exceeded Rate Limit\n"
          ]
        },
        {
          "name": "stderr",
          "output_type": "stream",
          "text": [
            "zzz.. napping: 100%|██████████| 7/7 [00:07<00:00,  1.01s/it]\n",
            " 51%|█████     | 1314/2567 [10:14<06:11,  3.37it/s]  "
          ]
        },
        {
          "name": "stdout",
          "output_type": "stream",
          "text": [
            "Error Message: Too Many Requests.  Exceeded Rate Limit\n"
          ]
        },
        {
          "name": "stderr",
          "output_type": "stream",
          "text": [
            "zzz.. napping: 100%|██████████| 1/1 [00:01<00:00,  1.01s/it]\n"
          ]
        },
        {
          "name": "stdout",
          "output_type": "stream",
          "text": [
            "Error Message: Too Many Requests.  Exceeded Rate Limit\n"
          ]
        },
        {
          "name": "stderr",
          "output_type": "stream",
          "text": [
            "zzz.. napping: 100%|██████████| 2/2 [00:02<00:00,  1.02s/it]\n"
          ]
        },
        {
          "name": "stdout",
          "output_type": "stream",
          "text": [
            "Error Message: Too Many Requests.  Exceeded Rate Limit\n"
          ]
        },
        {
          "name": "stderr",
          "output_type": "stream",
          "text": [
            "zzz.. napping: 100%|██████████| 3/3 [00:03<00:00,  1.02s/it]\n"
          ]
        },
        {
          "name": "stdout",
          "output_type": "stream",
          "text": [
            "Error Message: Too Many Requests.  Exceeded Rate Limit\n"
          ]
        },
        {
          "name": "stderr",
          "output_type": "stream",
          "text": [
            "zzz.. napping: 100%|██████████| 4/4 [00:04<00:00,  1.01s/it]\n"
          ]
        },
        {
          "name": "stdout",
          "output_type": "stream",
          "text": [
            "Error Message: Too Many Requests.  Exceeded Rate Limit\n"
          ]
        },
        {
          "name": "stderr",
          "output_type": "stream",
          "text": [
            "zzz.. napping: 100%|██████████| 5/5 [00:05<00:00,  1.02s/it]\n"
          ]
        },
        {
          "name": "stdout",
          "output_type": "stream",
          "text": [
            "Error Message: Too Many Requests.  Exceeded Rate Limit\n"
          ]
        },
        {
          "name": "stderr",
          "output_type": "stream",
          "text": [
            "zzz.. napping: 100%|██████████| 6/6 [00:06<00:00,  1.02s/it]\n",
            " 56%|█████▌    | 1434/2567 [11:12<06:06,  3.09it/s]  "
          ]
        },
        {
          "name": "stdout",
          "output_type": "stream",
          "text": [
            "Error Message: Too Many Requests.  Exceeded Rate Limit\n"
          ]
        },
        {
          "name": "stderr",
          "output_type": "stream",
          "text": [
            "zzz.. napping: 100%|██████████| 1/1 [00:01<00:00,  1.02s/it]\n"
          ]
        },
        {
          "name": "stdout",
          "output_type": "stream",
          "text": [
            "Error Message: Too Many Requests.  Exceeded Rate Limit\n"
          ]
        },
        {
          "name": "stderr",
          "output_type": "stream",
          "text": [
            "zzz.. napping: 100%|██████████| 2/2 [00:02<00:00,  1.01s/it]\n"
          ]
        },
        {
          "name": "stdout",
          "output_type": "stream",
          "text": [
            "Error Message: Too Many Requests.  Exceeded Rate Limit\n"
          ]
        },
        {
          "name": "stderr",
          "output_type": "stream",
          "text": [
            "zzz.. napping: 100%|██████████| 3/3 [00:03<00:00,  1.01s/it]\n"
          ]
        },
        {
          "name": "stdout",
          "output_type": "stream",
          "text": [
            "Error Message: Too Many Requests.  Exceeded Rate Limit\n"
          ]
        },
        {
          "name": "stderr",
          "output_type": "stream",
          "text": [
            "zzz.. napping: 100%|██████████| 4/4 [00:04<00:00,  1.01s/it]\n"
          ]
        },
        {
          "name": "stdout",
          "output_type": "stream",
          "text": [
            "Error Message: Too Many Requests.  Exceeded Rate Limit\n"
          ]
        },
        {
          "name": "stderr",
          "output_type": "stream",
          "text": [
            "zzz.. napping: 100%|██████████| 5/5 [00:05<00:00,  1.01s/it]\n"
          ]
        },
        {
          "name": "stdout",
          "output_type": "stream",
          "text": [
            "Error Message: Too Many Requests.  Exceeded Rate Limit\n"
          ]
        },
        {
          "name": "stderr",
          "output_type": "stream",
          "text": [
            "zzz.. napping: 100%|██████████| 6/6 [00:06<00:00,  1.01s/it]\n",
            " 61%|██████    | 1554/2567 [12:10<04:43,  3.58it/s]  "
          ]
        },
        {
          "name": "stdout",
          "output_type": "stream",
          "text": [
            "Error Message: Too Many Requests.  Exceeded Rate Limit\n"
          ]
        },
        {
          "name": "stderr",
          "output_type": "stream",
          "text": [
            "zzz.. napping: 100%|██████████| 1/1 [00:01<00:00,  1.02s/it]\n"
          ]
        },
        {
          "name": "stdout",
          "output_type": "stream",
          "text": [
            "Error Message: Too Many Requests.  Exceeded Rate Limit\n"
          ]
        },
        {
          "name": "stderr",
          "output_type": "stream",
          "text": [
            "zzz.. napping: 100%|██████████| 2/2 [00:02<00:00,  1.01s/it]\n"
          ]
        },
        {
          "name": "stdout",
          "output_type": "stream",
          "text": [
            "Error Message: Too Many Requests.  Exceeded Rate Limit\n"
          ]
        },
        {
          "name": "stderr",
          "output_type": "stream",
          "text": [
            "zzz.. napping: 100%|██████████| 3/3 [00:03<00:00,  1.02s/it]\n"
          ]
        },
        {
          "name": "stdout",
          "output_type": "stream",
          "text": [
            "Error Message: Too Many Requests.  Exceeded Rate Limit\n"
          ]
        },
        {
          "name": "stderr",
          "output_type": "stream",
          "text": [
            "zzz.. napping: 100%|██████████| 4/4 [00:04<00:00,  1.02s/it]\n"
          ]
        },
        {
          "name": "stdout",
          "output_type": "stream",
          "text": [
            "Error Message: Too Many Requests.  Exceeded Rate Limit\n"
          ]
        },
        {
          "name": "stderr",
          "output_type": "stream",
          "text": [
            "zzz.. napping: 100%|██████████| 5/5 [00:05<00:00,  1.02s/it]\n"
          ]
        },
        {
          "name": "stdout",
          "output_type": "stream",
          "text": [
            "Error Message: Too Many Requests.  Exceeded Rate Limit\n"
          ]
        },
        {
          "name": "stderr",
          "output_type": "stream",
          "text": [
            "zzz.. napping: 100%|██████████| 6/6 [00:06<00:00,  1.03s/it]\n",
            " 65%|██████▌   | 1674/2567 [13:09<04:16,  3.48it/s]  "
          ]
        },
        {
          "name": "stdout",
          "output_type": "stream",
          "text": [
            "Error Message: Too Many Requests.  Exceeded Rate Limit\n"
          ]
        },
        {
          "name": "stderr",
          "output_type": "stream",
          "text": [
            "zzz.. napping: 100%|██████████| 1/1 [00:01<00:00,  1.01s/it]\n"
          ]
        },
        {
          "name": "stdout",
          "output_type": "stream",
          "text": [
            "Error Message: Too Many Requests.  Exceeded Rate Limit\n"
          ]
        },
        {
          "name": "stderr",
          "output_type": "stream",
          "text": [
            "zzz.. napping: 100%|██████████| 2/2 [00:02<00:00,  1.02s/it]\n"
          ]
        },
        {
          "name": "stdout",
          "output_type": "stream",
          "text": [
            "Error Message: Too Many Requests.  Exceeded Rate Limit\n"
          ]
        },
        {
          "name": "stderr",
          "output_type": "stream",
          "text": [
            "zzz.. napping: 100%|██████████| 3/3 [00:03<00:00,  1.01s/it]\n"
          ]
        },
        {
          "name": "stdout",
          "output_type": "stream",
          "text": [
            "Error Message: Too Many Requests.  Exceeded Rate Limit\n"
          ]
        },
        {
          "name": "stderr",
          "output_type": "stream",
          "text": [
            "zzz.. napping: 100%|██████████| 4/4 [00:04<00:00,  1.01s/it]\n"
          ]
        },
        {
          "name": "stdout",
          "output_type": "stream",
          "text": [
            "Error Message: Too Many Requests.  Exceeded Rate Limit\n"
          ]
        },
        {
          "name": "stderr",
          "output_type": "stream",
          "text": [
            "zzz.. napping: 100%|██████████| 5/5 [00:05<00:00,  1.01s/it]\n"
          ]
        },
        {
          "name": "stdout",
          "output_type": "stream",
          "text": [
            "Error Message: Too Many Requests.  Exceeded Rate Limit\n"
          ]
        },
        {
          "name": "stderr",
          "output_type": "stream",
          "text": [
            "zzz.. napping: 100%|██████████| 6/6 [00:06<00:00,  1.02s/it]\n",
            " 70%|██████▉   | 1794/2567 [14:08<03:46,  3.42it/s]  "
          ]
        },
        {
          "name": "stdout",
          "output_type": "stream",
          "text": [
            "Error Message: Too Many Requests.  Exceeded Rate Limit\n"
          ]
        },
        {
          "name": "stderr",
          "output_type": "stream",
          "text": [
            "zzz.. napping: 100%|██████████| 1/1 [00:01<00:00,  1.01s/it]\n"
          ]
        },
        {
          "name": "stdout",
          "output_type": "stream",
          "text": [
            "Error Message: Too Many Requests.  Exceeded Rate Limit\n"
          ]
        },
        {
          "name": "stderr",
          "output_type": "stream",
          "text": [
            "zzz.. napping: 100%|██████████| 2/2 [00:02<00:00,  1.01s/it]\n"
          ]
        },
        {
          "name": "stdout",
          "output_type": "stream",
          "text": [
            "Error Message: Too Many Requests.  Exceeded Rate Limit\n"
          ]
        },
        {
          "name": "stderr",
          "output_type": "stream",
          "text": [
            "zzz.. napping: 100%|██████████| 3/3 [00:03<00:00,  1.01s/it]\n"
          ]
        },
        {
          "name": "stdout",
          "output_type": "stream",
          "text": [
            "Error Message: Too Many Requests.  Exceeded Rate Limit\n"
          ]
        },
        {
          "name": "stderr",
          "output_type": "stream",
          "text": [
            "zzz.. napping: 100%|██████████| 4/4 [00:04<00:00,  1.01s/it]\n"
          ]
        },
        {
          "name": "stdout",
          "output_type": "stream",
          "text": [
            "Error Message: Too Many Requests.  Exceeded Rate Limit\n"
          ]
        },
        {
          "name": "stderr",
          "output_type": "stream",
          "text": [
            "zzz.. napping: 100%|██████████| 5/5 [00:05<00:00,  1.01s/it]\n"
          ]
        },
        {
          "name": "stdout",
          "output_type": "stream",
          "text": [
            "Error Message: Too Many Requests.  Exceeded Rate Limit\n"
          ]
        },
        {
          "name": "stderr",
          "output_type": "stream",
          "text": [
            "zzz.. napping: 100%|██████████| 6/6 [00:06<00:00,  1.01s/it]\n"
          ]
        },
        {
          "name": "stdout",
          "output_type": "stream",
          "text": [
            "Error Message: Too Many Requests.  Exceeded Rate Limit\n"
          ]
        },
        {
          "name": "stderr",
          "output_type": "stream",
          "text": [
            "zzz.. napping: 100%|██████████| 7/7 [00:07<00:00,  1.01s/it]\n",
            " 75%|███████▍  | 1914/2567 [15:14<03:10,  3.44it/s]  "
          ]
        },
        {
          "name": "stdout",
          "output_type": "stream",
          "text": [
            "Error Message: Too Many Requests.  Exceeded Rate Limit\n"
          ]
        },
        {
          "name": "stderr",
          "output_type": "stream",
          "text": [
            "zzz.. napping: 100%|██████████| 1/1 [00:01<00:00,  1.02s/it]\n"
          ]
        },
        {
          "name": "stdout",
          "output_type": "stream",
          "text": [
            "Error Message: Too Many Requests.  Exceeded Rate Limit\n"
          ]
        },
        {
          "name": "stderr",
          "output_type": "stream",
          "text": [
            "zzz.. napping: 100%|██████████| 2/2 [00:02<00:00,  1.06s/it]\n"
          ]
        },
        {
          "name": "stdout",
          "output_type": "stream",
          "text": [
            "Error Message: Too Many Requests.  Exceeded Rate Limit\n"
          ]
        },
        {
          "name": "stderr",
          "output_type": "stream",
          "text": [
            "zzz.. napping: 100%|██████████| 3/3 [00:03<00:00,  1.02s/it]\n"
          ]
        },
        {
          "name": "stdout",
          "output_type": "stream",
          "text": [
            "Error Message: Too Many Requests.  Exceeded Rate Limit\n"
          ]
        },
        {
          "name": "stderr",
          "output_type": "stream",
          "text": [
            "zzz.. napping: 100%|██████████| 4/4 [00:04<00:00,  1.01s/it]\n"
          ]
        },
        {
          "name": "stdout",
          "output_type": "stream",
          "text": [
            "Error Message: Too Many Requests.  Exceeded Rate Limit\n"
          ]
        },
        {
          "name": "stderr",
          "output_type": "stream",
          "text": [
            "zzz.. napping: 100%|██████████| 5/5 [00:05<00:00,  1.01s/it]\n"
          ]
        },
        {
          "name": "stdout",
          "output_type": "stream",
          "text": [
            "Error Message: Too Many Requests.  Exceeded Rate Limit\n"
          ]
        },
        {
          "name": "stderr",
          "output_type": "stream",
          "text": [
            "zzz.. napping: 100%|██████████| 6/6 [00:06<00:00,  1.01s/it]\n",
            " 79%|███████▉  | 2034/2567 [16:15<02:44,  3.25it/s]  "
          ]
        },
        {
          "name": "stdout",
          "output_type": "stream",
          "text": [
            "Error Message: Too Many Requests.  Exceeded Rate Limit\n"
          ]
        },
        {
          "name": "stderr",
          "output_type": "stream",
          "text": [
            "zzz.. napping: 100%|██████████| 1/1 [00:01<00:00,  1.02s/it]\n"
          ]
        },
        {
          "name": "stdout",
          "output_type": "stream",
          "text": [
            "Error Message: Too Many Requests.  Exceeded Rate Limit\n"
          ]
        },
        {
          "name": "stderr",
          "output_type": "stream",
          "text": [
            "zzz.. napping: 100%|██████████| 2/2 [00:02<00:00,  1.02s/it]\n"
          ]
        },
        {
          "name": "stdout",
          "output_type": "stream",
          "text": [
            "Error Message: Too Many Requests.  Exceeded Rate Limit\n"
          ]
        },
        {
          "name": "stderr",
          "output_type": "stream",
          "text": [
            "zzz.. napping: 100%|██████████| 3/3 [00:03<00:00,  1.01s/it]\n"
          ]
        },
        {
          "name": "stdout",
          "output_type": "stream",
          "text": [
            "Error Message: Too Many Requests.  Exceeded Rate Limit\n"
          ]
        },
        {
          "name": "stderr",
          "output_type": "stream",
          "text": [
            "zzz.. napping: 100%|██████████| 4/4 [00:04<00:00,  1.01s/it]\n"
          ]
        },
        {
          "name": "stdout",
          "output_type": "stream",
          "text": [
            "Error Message: Too Many Requests.  Exceeded Rate Limit\n"
          ]
        },
        {
          "name": "stderr",
          "output_type": "stream",
          "text": [
            "zzz.. napping: 100%|██████████| 5/5 [00:05<00:00,  1.01s/it]\n",
            " 84%|████████▍ | 2154/2567 [17:07<02:06,  3.26it/s]"
          ]
        },
        {
          "name": "stdout",
          "output_type": "stream",
          "text": [
            "Error Message: Too Many Requests.  Exceeded Rate Limit\n"
          ]
        },
        {
          "name": "stderr",
          "output_type": "stream",
          "text": [
            "zzz.. napping: 100%|██████████| 1/1 [00:01<00:00,  1.02s/it]\n"
          ]
        },
        {
          "name": "stdout",
          "output_type": "stream",
          "text": [
            "Error Message: Too Many Requests.  Exceeded Rate Limit\n"
          ]
        },
        {
          "name": "stderr",
          "output_type": "stream",
          "text": [
            "zzz.. napping: 100%|██████████| 2/2 [00:02<00:00,  1.00s/it]\n"
          ]
        },
        {
          "name": "stdout",
          "output_type": "stream",
          "text": [
            "Error Message: Too Many Requests.  Exceeded Rate Limit\n"
          ]
        },
        {
          "name": "stderr",
          "output_type": "stream",
          "text": [
            "zzz.. napping: 100%|██████████| 3/3 [00:03<00:00,  1.01s/it]\n"
          ]
        },
        {
          "name": "stdout",
          "output_type": "stream",
          "text": [
            "Error Message: Too Many Requests.  Exceeded Rate Limit\n"
          ]
        },
        {
          "name": "stderr",
          "output_type": "stream",
          "text": [
            "zzz.. napping: 100%|██████████| 4/4 [00:04<00:00,  1.01s/it]\n"
          ]
        },
        {
          "name": "stdout",
          "output_type": "stream",
          "text": [
            "Error Message: Too Many Requests.  Exceeded Rate Limit\n"
          ]
        },
        {
          "name": "stderr",
          "output_type": "stream",
          "text": [
            "zzz.. napping: 100%|██████████| 5/5 [00:05<00:00,  1.02s/it]\n"
          ]
        },
        {
          "name": "stdout",
          "output_type": "stream",
          "text": [
            "Error Message: Too Many Requests.  Exceeded Rate Limit\n"
          ]
        },
        {
          "name": "stderr",
          "output_type": "stream",
          "text": [
            "zzz.. napping: 100%|██████████| 6/6 [00:06<00:00,  1.01s/it]\n"
          ]
        },
        {
          "name": "stdout",
          "output_type": "stream",
          "text": [
            "Error Message: Too Many Requests.  Exceeded Rate Limit\n"
          ]
        },
        {
          "name": "stderr",
          "output_type": "stream",
          "text": [
            "zzz.. napping: 100%|██████████| 7/7 [00:07<00:00,  1.01s/it]\n",
            " 89%|████████▊ | 2274/2567 [18:13<01:19,  3.66it/s]  "
          ]
        },
        {
          "name": "stdout",
          "output_type": "stream",
          "text": [
            "Error Message: Too Many Requests.  Exceeded Rate Limit\n"
          ]
        },
        {
          "name": "stderr",
          "output_type": "stream",
          "text": [
            "zzz.. napping: 100%|██████████| 1/1 [00:01<00:00,  1.01s/it]\n"
          ]
        },
        {
          "name": "stdout",
          "output_type": "stream",
          "text": [
            "Error Message: Too Many Requests.  Exceeded Rate Limit\n"
          ]
        },
        {
          "name": "stderr",
          "output_type": "stream",
          "text": [
            "zzz.. napping: 100%|██████████| 2/2 [00:02<00:00,  1.01s/it]\n"
          ]
        },
        {
          "name": "stdout",
          "output_type": "stream",
          "text": [
            "Error Message: Too Many Requests.  Exceeded Rate Limit\n"
          ]
        },
        {
          "name": "stderr",
          "output_type": "stream",
          "text": [
            "zzz.. napping: 100%|██████████| 3/3 [00:03<00:00,  1.02s/it]\n"
          ]
        },
        {
          "name": "stdout",
          "output_type": "stream",
          "text": [
            "Error Message: Too Many Requests.  Exceeded Rate Limit\n"
          ]
        },
        {
          "name": "stderr",
          "output_type": "stream",
          "text": [
            "zzz.. napping: 100%|██████████| 4/4 [00:04<00:00,  1.01s/it]\n"
          ]
        },
        {
          "name": "stdout",
          "output_type": "stream",
          "text": [
            "Error Message: Too Many Requests.  Exceeded Rate Limit\n"
          ]
        },
        {
          "name": "stderr",
          "output_type": "stream",
          "text": [
            "zzz.. napping: 100%|██████████| 5/5 [00:05<00:00,  1.01s/it]\n"
          ]
        },
        {
          "name": "stdout",
          "output_type": "stream",
          "text": [
            "Error Message: Too Many Requests.  Exceeded Rate Limit\n"
          ]
        },
        {
          "name": "stderr",
          "output_type": "stream",
          "text": [
            "zzz.. napping: 100%|██████████| 6/6 [00:06<00:00,  1.01s/it]\n",
            " 93%|█████████▎| 2394/2567 [19:11<00:48,  3.59it/s]"
          ]
        },
        {
          "name": "stdout",
          "output_type": "stream",
          "text": [
            "Error Message: Too Many Requests.  Exceeded Rate Limit\n"
          ]
        },
        {
          "name": "stderr",
          "output_type": "stream",
          "text": [
            "zzz.. napping: 100%|██████████| 1/1 [00:01<00:00,  1.00s/it]\n"
          ]
        },
        {
          "name": "stdout",
          "output_type": "stream",
          "text": [
            "Error Message: Too Many Requests.  Exceeded Rate Limit\n"
          ]
        },
        {
          "name": "stderr",
          "output_type": "stream",
          "text": [
            "zzz.. napping: 100%|██████████| 2/2 [00:02<00:00,  1.01s/it]\n"
          ]
        },
        {
          "name": "stdout",
          "output_type": "stream",
          "text": [
            "Error Message: Too Many Requests.  Exceeded Rate Limit\n"
          ]
        },
        {
          "name": "stderr",
          "output_type": "stream",
          "text": [
            "zzz.. napping: 100%|██████████| 3/3 [00:03<00:00,  1.01s/it]\n"
          ]
        },
        {
          "name": "stdout",
          "output_type": "stream",
          "text": [
            "Error Message: Too Many Requests.  Exceeded Rate Limit\n"
          ]
        },
        {
          "name": "stderr",
          "output_type": "stream",
          "text": [
            "zzz.. napping: 100%|██████████| 4/4 [00:04<00:00,  1.01s/it]\n"
          ]
        },
        {
          "name": "stdout",
          "output_type": "stream",
          "text": [
            "Error Message: Too Many Requests.  Exceeded Rate Limit\n"
          ]
        },
        {
          "name": "stderr",
          "output_type": "stream",
          "text": [
            "zzz.. napping: 100%|██████████| 5/5 [00:05<00:00,  1.01s/it]\n"
          ]
        },
        {
          "name": "stdout",
          "output_type": "stream",
          "text": [
            "Error Message: Too Many Requests.  Exceeded Rate Limit\n"
          ]
        },
        {
          "name": "stderr",
          "output_type": "stream",
          "text": [
            "zzz.. napping: 100%|██████████| 6/6 [00:06<00:00,  1.01s/it]\n",
            " 98%|█████████▊| 2514/2567 [20:09<00:16,  3.27it/s]"
          ]
        },
        {
          "name": "stdout",
          "output_type": "stream",
          "text": [
            "Error Message: Too Many Requests.  Exceeded Rate Limit\n"
          ]
        },
        {
          "name": "stderr",
          "output_type": "stream",
          "text": [
            "zzz.. napping: 100%|██████████| 1/1 [00:01<00:00,  1.00s/it]\n"
          ]
        },
        {
          "name": "stdout",
          "output_type": "stream",
          "text": [
            "Error Message: Too Many Requests.  Exceeded Rate Limit\n"
          ]
        },
        {
          "name": "stderr",
          "output_type": "stream",
          "text": [
            "zzz.. napping: 100%|██████████| 2/2 [00:02<00:00,  1.01s/it]\n"
          ]
        },
        {
          "name": "stdout",
          "output_type": "stream",
          "text": [
            "Error Message: Too Many Requests.  Exceeded Rate Limit\n"
          ]
        },
        {
          "name": "stderr",
          "output_type": "stream",
          "text": [
            "zzz.. napping: 100%|██████████| 3/3 [00:03<00:00,  1.02s/it]\n"
          ]
        },
        {
          "name": "stdout",
          "output_type": "stream",
          "text": [
            "Error Message: Too Many Requests.  Exceeded Rate Limit\n"
          ]
        },
        {
          "name": "stderr",
          "output_type": "stream",
          "text": [
            "zzz.. napping: 100%|██████████| 4/4 [00:04<00:00,  1.03s/it]\n"
          ]
        },
        {
          "name": "stdout",
          "output_type": "stream",
          "text": [
            "Error Message: Too Many Requests.  Exceeded Rate Limit\n"
          ]
        },
        {
          "name": "stderr",
          "output_type": "stream",
          "text": [
            "zzz.. napping: 100%|██████████| 5/5 [00:05<00:00,  1.01s/it]\n"
          ]
        },
        {
          "name": "stdout",
          "output_type": "stream",
          "text": [
            "Error Message: Too Many Requests.  Exceeded Rate Limit\n"
          ]
        },
        {
          "name": "stderr",
          "output_type": "stream",
          "text": [
            "zzz.. napping: 100%|██████████| 6/6 [00:06<00:00,  1.01s/it]\n",
            "100%|██████████| 2567/2567 [20:48<00:00,  2.06it/s]\n"
          ]
        }
      ],
      "source": [
        "for id, name in tqdm(id_name_list[194 + 160 + 129:]):\n",
        "    temp_df = keep_trying(fred.get_series_df, id, '', no_subscription = True)\n",
        "    name = name.replace('/', '_')\n",
        "    temp_df.to_csv(f'fred_unemployment_rate/{name}', index = False)"
      ]
    }
  ],
  "metadata": {
    "colab": {
      "provenance": []
    },
    "kernelspec": {
      "display_name": "base",
      "language": "python",
      "name": "python3"
    },
    "language_info": {
      "codemirror_mode": {
        "name": "ipython",
        "version": 3
      },
      "file_extension": ".py",
      "mimetype": "text/x-python",
      "name": "python",
      "nbconvert_exporter": "python",
      "pygments_lexer": "ipython3",
      "version": "3.9.7"
    },
    "vscode": {
      "interpreter": {
        "hash": "249bd0994ce17ba9d488f363804508f68eba329dae24231959101f0f2e1095af"
      }
    }
  },
  "nbformat": 4,
  "nbformat_minor": 0
}
